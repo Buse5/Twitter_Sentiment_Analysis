{
 "cells": [
  {
   "cell_type": "markdown",
   "metadata": {},
   "source": [
    "## SON\n",
    "Burda yapılan tüm işlemler özetlenerek tek bir dataframe üzerinde performans testleri yapıldı. Diğer .ipynb uzantılı sayfalarda ise burdaki algoritmalar açıklandı."
   ]
  },
  {
   "cell_type": "code",
   "execution_count": 26,
   "metadata": {
    "executionInfo": {
     "elapsed": 1394,
     "status": "ok",
     "timestamp": 1619193508540,
     "user": {
      "displayName": "Melike Akalan",
      "photoUrl": "",
      "userId": "07496756220803219284"
     },
     "user_tz": -180
    },
    "id": "T4oVDcRuTtGx"
   },
   "outputs": [],
   "source": [
    "import nltk                                 # Python un NLP kütüphanesini ekledik\n",
    "from nltk.corpus import twitter_samples     # Twitter verisetini import ettik\n",
    "import matplotlib.pyplot as plt           \n",
    "import random "
   ]
  },
  {
   "cell_type": "code",
   "execution_count": 27,
   "metadata": {
    "colab": {
     "base_uri": "https://localhost:8080/"
    },
    "executionInfo": {
     "elapsed": 1388,
     "status": "ok",
     "timestamp": 1619193508541,
     "user": {
      "displayName": "Melike Akalan",
      "photoUrl": "",
      "userId": "07496756220803219284"
     },
     "user_tz": -180
    },
    "id": "9eDAMesrTx5N",
    "outputId": "532457f0-ef5a-4b2c-f69c-31b1bc149396"
   },
   "outputs": [],
   "source": [
    " #### Bu kod dosyayı root/nltk_data/corpara/twitter_samples yolu içerisine download eder. ####\n",
    " # nltk.download('twitter_samples')"
   ]
  },
  {
   "cell_type": "code",
   "execution_count": 28,
   "metadata": {
    "executionInfo": {
     "elapsed": 1383,
     "status": "ok",
     "timestamp": 1619193508541,
     "user": {
      "displayName": "Melike Akalan",
      "photoUrl": "",
      "userId": "07496756220803219284"
     },
     "user_tz": -180
    },
    "id": "UmLOK06aT0mZ"
   },
   "outputs": [],
   "source": [
    "import pandas as pd\n",
    "import numpy as np"
   ]
  },
  {
   "cell_type": "code",
   "execution_count": 29,
   "metadata": {
    "executionInfo": {
     "elapsed": 2779,
     "status": "ok",
     "timestamp": 1619193509940,
     "user": {
      "displayName": "Melike Akalan",
      "photoUrl": "",
      "userId": "07496756220803219284"
     },
     "user_tz": -180
    },
    "id": "fIpoKnWzT2wn"
   },
   "outputs": [],
   "source": [
    "# df_pos = pd.read_json(r'/root/nltk_data/corpora/twitter_samples/positive_tweets.json', lines = True, encoding='utf-8')\n",
    "# df_neg = pd.read_json(r'/root/nltk_data/corpora/twitter_samples/negative_tweets.json', lines = True, encoding='utf-8')\n",
    "\n",
    "df_pos = pd.read_json(\"positive_tweets.json\", lines = True, encoding= 'UTF-8')\n",
    "df_neg = pd.read_json(\"negative_tweets.json\", lines = True, encoding= 'UTF-8')"
   ]
  },
  {
   "cell_type": "code",
   "execution_count": 30,
   "metadata": {
    "colab": {
     "base_uri": "https://localhost:8080/"
    },
    "executionInfo": {
     "elapsed": 2776,
     "status": "ok",
     "timestamp": 1619193509942,
     "user": {
      "displayName": "Melike Akalan",
      "photoUrl": "",
      "userId": "07496756220803219284"
     },
     "user_tz": -180
    },
    "id": "v_7rZ7ICT4vr",
    "outputId": "eacec00c-212a-4b7b-c14f-ab602a477e69"
   },
   "outputs": [
    {
     "name": "stdout",
     "output_type": "stream",
     "text": [
      "(5000, 28)\n",
      "(5000, 28)\n"
     ]
    }
   ],
   "source": [
    "print(df_pos.shape)\n",
    "print(df_neg.shape)"
   ]
  },
  {
   "cell_type": "code",
   "execution_count": 31,
   "metadata": {
    "colab": {
     "base_uri": "https://localhost:8080/"
    },
    "executionInfo": {
     "elapsed": 2771,
     "status": "ok",
     "timestamp": 1619193509943,
     "user": {
      "displayName": "Melike Akalan",
      "photoUrl": "",
      "userId": "07496756220803219284"
     },
     "user_tz": -180
    },
    "id": "O4cWDB1szOJm",
    "outputId": "ccb9f9ee-e357-4d34-a55a-dcce0079c704"
   },
   "outputs": [
    {
     "name": "stdout",
     "output_type": "stream",
     "text": [
      "5000\n"
     ]
    }
   ],
   "source": [
    "positive_sentiment = []\n",
    "for i in range(0,5000):\n",
    "    positive_sentiment.append(1)\n",
    "\n",
    "print(len(positive_sentiment))\n",
    "\n",
    "df_pos['sentiment'] = positive_sentiment # positive tweets sentiment kolonu eklendi\n"
   ]
  },
  {
   "cell_type": "code",
   "execution_count": 32,
   "metadata": {
    "colab": {
     "base_uri": "https://localhost:8080/"
    },
    "executionInfo": {
     "elapsed": 2766,
     "status": "ok",
     "timestamp": 1619193509944,
     "user": {
      "displayName": "Melike Akalan",
      "photoUrl": "",
      "userId": "07496756220803219284"
     },
     "user_tz": -180
    },
    "id": "P3jdEFZpF2iA",
    "outputId": "0d82ecca-ea26-44a9-c937-524cf5e13d70"
   },
   "outputs": [
    {
     "name": "stdout",
     "output_type": "stream",
     "text": [
      "5000\n"
     ]
    }
   ],
   "source": [
    "dataframe_id = []\n",
    "for i in range(0,5000):\n",
    "    i+=1\n",
    "    dataframe_id.append(i)\n",
    "\n",
    "print(len(dataframe_id)) \n",
    "\n",
    "df_pos['df_id'] = dataframe_id "
   ]
  },
  {
   "cell_type": "code",
   "execution_count": 33,
   "metadata": {
    "colab": {
     "base_uri": "https://localhost:8080/",
     "height": 417
    },
    "executionInfo": {
     "elapsed": 2759,
     "status": "ok",
     "timestamp": 1619193509945,
     "user": {
      "displayName": "Melike Akalan",
      "photoUrl": "",
      "userId": "07496756220803219284"
     },
     "user_tz": -180
    },
    "id": "aN4Bgb110OQ4",
    "outputId": "94e06f62-503e-475c-f7fb-98337dcb0454"
   },
   "outputs": [
    {
     "name": "stdout",
     "output_type": "stream",
     "text": [
      "(5000, 30)\n"
     ]
    },
    {
     "data": {
      "text/html": [
       "<div>\n",
       "<style scoped>\n",
       "    .dataframe tbody tr th:only-of-type {\n",
       "        vertical-align: middle;\n",
       "    }\n",
       "\n",
       "    .dataframe tbody tr th {\n",
       "        vertical-align: top;\n",
       "    }\n",
       "\n",
       "    .dataframe thead th {\n",
       "        text-align: right;\n",
       "    }\n",
       "</style>\n",
       "<table border=\"1\" class=\"dataframe\">\n",
       "  <thead>\n",
       "    <tr style=\"text-align: right;\">\n",
       "      <th></th>\n",
       "      <th>contributors</th>\n",
       "      <th>coordinates</th>\n",
       "      <th>text</th>\n",
       "      <th>user</th>\n",
       "      <th>retweet_count</th>\n",
       "      <th>favorited</th>\n",
       "      <th>entities</th>\n",
       "      <th>source</th>\n",
       "      <th>truncated</th>\n",
       "      <th>geo</th>\n",
       "      <th>...</th>\n",
       "      <th>metadata</th>\n",
       "      <th>favorite_count</th>\n",
       "      <th>id_str</th>\n",
       "      <th>id</th>\n",
       "      <th>possibly_sensitive</th>\n",
       "      <th>quoted_status_id</th>\n",
       "      <th>quoted_status</th>\n",
       "      <th>quoted_status_id_str</th>\n",
       "      <th>sentiment</th>\n",
       "      <th>df_id</th>\n",
       "    </tr>\n",
       "  </thead>\n",
       "  <tbody>\n",
       "    <tr>\n",
       "      <th>0</th>\n",
       "      <td>NaN</td>\n",
       "      <td>None</td>\n",
       "      <td>#FollowFriday @France_Inte @PKuchly57 @Milipol...</td>\n",
       "      <td>{'time_zone': 'Paris', 'profile_background_ima...</td>\n",
       "      <td>0</td>\n",
       "      <td>False</td>\n",
       "      <td>{'hashtags': [{'indices': [0, 13], 'text': 'Fo...</td>\n",
       "      <td>&lt;a href=\"https://commun.it\" rel=\"nofollow\"&gt;Com...</td>\n",
       "      <td>False</td>\n",
       "      <td>None</td>\n",
       "      <td>...</td>\n",
       "      <td>{'iso_language_code': 'en', 'result_type': 're...</td>\n",
       "      <td>0</td>\n",
       "      <td>624495129303351296</td>\n",
       "      <td>624495129303351296</td>\n",
       "      <td>NaN</td>\n",
       "      <td>NaN</td>\n",
       "      <td>NaN</td>\n",
       "      <td>NaN</td>\n",
       "      <td>1</td>\n",
       "      <td>1</td>\n",
       "    </tr>\n",
       "    <tr>\n",
       "      <th>1</th>\n",
       "      <td>NaN</td>\n",
       "      <td>None</td>\n",
       "      <td>@Lamb2ja Hey James! How odd :/ Please call our...</td>\n",
       "      <td>{'time_zone': 'London', 'profile_background_im...</td>\n",
       "      <td>0</td>\n",
       "      <td>False</td>\n",
       "      <td>{'hashtags': [], 'user_mentions': [{'screen_na...</td>\n",
       "      <td>&lt;a href=\"http://twitter.com\" rel=\"nofollow\"&gt;Tw...</td>\n",
       "      <td>False</td>\n",
       "      <td>None</td>\n",
       "      <td>...</td>\n",
       "      <td>{'iso_language_code': 'en', 'result_type': 're...</td>\n",
       "      <td>0</td>\n",
       "      <td>624495128510656512</td>\n",
       "      <td>624495128510656513</td>\n",
       "      <td>NaN</td>\n",
       "      <td>NaN</td>\n",
       "      <td>NaN</td>\n",
       "      <td>NaN</td>\n",
       "      <td>1</td>\n",
       "      <td>2</td>\n",
       "    </tr>\n",
       "    <tr>\n",
       "      <th>2</th>\n",
       "      <td>NaN</td>\n",
       "      <td>None</td>\n",
       "      <td>@DespiteOfficial we had a listen last night :)...</td>\n",
       "      <td>{'time_zone': 'Casablanca', 'profile_backgroun...</td>\n",
       "      <td>0</td>\n",
       "      <td>False</td>\n",
       "      <td>{'hashtags': [], 'user_mentions': [{'screen_na...</td>\n",
       "      <td>&lt;a href=\"http://twitter.com\" rel=\"nofollow\"&gt;Tw...</td>\n",
       "      <td>False</td>\n",
       "      <td>None</td>\n",
       "      <td>...</td>\n",
       "      <td>{'iso_language_code': 'en', 'result_type': 're...</td>\n",
       "      <td>0</td>\n",
       "      <td>624495126535106560</td>\n",
       "      <td>624495126535106560</td>\n",
       "      <td>NaN</td>\n",
       "      <td>NaN</td>\n",
       "      <td>NaN</td>\n",
       "      <td>NaN</td>\n",
       "      <td>1</td>\n",
       "      <td>3</td>\n",
       "    </tr>\n",
       "    <tr>\n",
       "      <th>3</th>\n",
       "      <td>NaN</td>\n",
       "      <td>None</td>\n",
       "      <td>@97sides CONGRATS :)</td>\n",
       "      <td>{'time_zone': 'Paris', 'profile_background_ima...</td>\n",
       "      <td>0</td>\n",
       "      <td>False</td>\n",
       "      <td>{'hashtags': [], 'user_mentions': [{'screen_na...</td>\n",
       "      <td>&lt;a href=\"http://twitter.com/download/iphone\" r...</td>\n",
       "      <td>False</td>\n",
       "      <td>None</td>\n",
       "      <td>...</td>\n",
       "      <td>{'iso_language_code': 'en', 'result_type': 're...</td>\n",
       "      <td>0</td>\n",
       "      <td>624495126170238976</td>\n",
       "      <td>624495126170238976</td>\n",
       "      <td>NaN</td>\n",
       "      <td>NaN</td>\n",
       "      <td>NaN</td>\n",
       "      <td>NaN</td>\n",
       "      <td>1</td>\n",
       "      <td>4</td>\n",
       "    </tr>\n",
       "    <tr>\n",
       "      <th>4</th>\n",
       "      <td>NaN</td>\n",
       "      <td>None</td>\n",
       "      <td>yeaaaah yippppy!!!  my accnt verified rqst has...</td>\n",
       "      <td>{'time_zone': None, 'profile_background_image_...</td>\n",
       "      <td>0</td>\n",
       "      <td>False</td>\n",
       "      <td>{'hashtags': [], 'user_mentions': [], 'urls': ...</td>\n",
       "      <td>&lt;a href=\"https://mobile.twitter.com\" rel=\"nofo...</td>\n",
       "      <td>False</td>\n",
       "      <td>None</td>\n",
       "      <td>...</td>\n",
       "      <td>{'iso_language_code': 'en', 'result_type': 're...</td>\n",
       "      <td>0</td>\n",
       "      <td>624495124148391936</td>\n",
       "      <td>624495124148391936</td>\n",
       "      <td>NaN</td>\n",
       "      <td>NaN</td>\n",
       "      <td>NaN</td>\n",
       "      <td>NaN</td>\n",
       "      <td>1</td>\n",
       "      <td>5</td>\n",
       "    </tr>\n",
       "  </tbody>\n",
       "</table>\n",
       "<p>5 rows × 30 columns</p>\n",
       "</div>"
      ],
      "text/plain": [
       "   contributors coordinates  \\\n",
       "0           NaN        None   \n",
       "1           NaN        None   \n",
       "2           NaN        None   \n",
       "3           NaN        None   \n",
       "4           NaN        None   \n",
       "\n",
       "                                                text  \\\n",
       "0  #FollowFriday @France_Inte @PKuchly57 @Milipol...   \n",
       "1  @Lamb2ja Hey James! How odd :/ Please call our...   \n",
       "2  @DespiteOfficial we had a listen last night :)...   \n",
       "3                               @97sides CONGRATS :)   \n",
       "4  yeaaaah yippppy!!!  my accnt verified rqst has...   \n",
       "\n",
       "                                                user  retweet_count  \\\n",
       "0  {'time_zone': 'Paris', 'profile_background_ima...              0   \n",
       "1  {'time_zone': 'London', 'profile_background_im...              0   \n",
       "2  {'time_zone': 'Casablanca', 'profile_backgroun...              0   \n",
       "3  {'time_zone': 'Paris', 'profile_background_ima...              0   \n",
       "4  {'time_zone': None, 'profile_background_image_...              0   \n",
       "\n",
       "   favorited                                           entities  \\\n",
       "0      False  {'hashtags': [{'indices': [0, 13], 'text': 'Fo...   \n",
       "1      False  {'hashtags': [], 'user_mentions': [{'screen_na...   \n",
       "2      False  {'hashtags': [], 'user_mentions': [{'screen_na...   \n",
       "3      False  {'hashtags': [], 'user_mentions': [{'screen_na...   \n",
       "4      False  {'hashtags': [], 'user_mentions': [], 'urls': ...   \n",
       "\n",
       "                                              source  truncated   geo  ...  \\\n",
       "0  <a href=\"https://commun.it\" rel=\"nofollow\">Com...      False  None  ...   \n",
       "1  <a href=\"http://twitter.com\" rel=\"nofollow\">Tw...      False  None  ...   \n",
       "2  <a href=\"http://twitter.com\" rel=\"nofollow\">Tw...      False  None  ...   \n",
       "3  <a href=\"http://twitter.com/download/iphone\" r...      False  None  ...   \n",
       "4  <a href=\"https://mobile.twitter.com\" rel=\"nofo...      False  None  ...   \n",
       "\n",
       "                                            metadata  favorite_count  \\\n",
       "0  {'iso_language_code': 'en', 'result_type': 're...               0   \n",
       "1  {'iso_language_code': 'en', 'result_type': 're...               0   \n",
       "2  {'iso_language_code': 'en', 'result_type': 're...               0   \n",
       "3  {'iso_language_code': 'en', 'result_type': 're...               0   \n",
       "4  {'iso_language_code': 'en', 'result_type': 're...               0   \n",
       "\n",
       "               id_str                  id  possibly_sensitive  \\\n",
       "0  624495129303351296  624495129303351296                 NaN   \n",
       "1  624495128510656512  624495128510656513                 NaN   \n",
       "2  624495126535106560  624495126535106560                 NaN   \n",
       "3  624495126170238976  624495126170238976                 NaN   \n",
       "4  624495124148391936  624495124148391936                 NaN   \n",
       "\n",
       "  quoted_status_id quoted_status  quoted_status_id_str  sentiment df_id  \n",
       "0              NaN           NaN                   NaN          1     1  \n",
       "1              NaN           NaN                   NaN          1     2  \n",
       "2              NaN           NaN                   NaN          1     3  \n",
       "3              NaN           NaN                   NaN          1     4  \n",
       "4              NaN           NaN                   NaN          1     5  \n",
       "\n",
       "[5 rows x 30 columns]"
      ]
     },
     "execution_count": 33,
     "metadata": {},
     "output_type": "execute_result"
    }
   ],
   "source": [
    "print(df_pos.shape)\n",
    "df_pos.head()"
   ]
  },
  {
   "cell_type": "code",
   "execution_count": 34,
   "metadata": {
    "executionInfo": {
     "elapsed": 2753,
     "status": "ok",
     "timestamp": 1619193509946,
     "user": {
      "displayName": "Melike Akalan",
      "photoUrl": "",
      "userId": "07496756220803219284"
     },
     "user_tz": -180
    },
    "id": "vGUgd-FU2Tb0"
   },
   "outputs": [],
   "source": [
    "negative_sentiment = []\n",
    "for i in range(0,5000):\n",
    "    negative_sentiment.append(0)\n",
    "\n",
    "df_neg['sentiment'] = negative_sentiment"
   ]
  },
  {
   "cell_type": "code",
   "execution_count": 35,
   "metadata": {
    "colab": {
     "base_uri": "https://localhost:8080/"
    },
    "executionInfo": {
     "elapsed": 2750,
     "status": "ok",
     "timestamp": 1619193509947,
     "user": {
      "displayName": "Melike Akalan",
      "photoUrl": "",
      "userId": "07496756220803219284"
     },
     "user_tz": -180
    },
    "id": "l4nbPAQhGiQ4",
    "outputId": "73132977-5d56-48e4-8939-498704423626"
   },
   "outputs": [
    {
     "name": "stdout",
     "output_type": "stream",
     "text": [
      "5000\n"
     ]
    }
   ],
   "source": [
    "dataframe_id = []\n",
    "for i in range(5000,10000):\n",
    "    i+=1\n",
    "    dataframe_id.append(i)\n",
    "\n",
    "print(len(dataframe_id)) \n",
    "\n",
    "df_neg['df_id'] = dataframe_id "
   ]
  },
  {
   "cell_type": "code",
   "execution_count": 36,
   "metadata": {
    "colab": {
     "base_uri": "https://localhost:8080/",
     "height": 534
    },
    "executionInfo": {
     "elapsed": 3431,
     "status": "ok",
     "timestamp": 1619193510636,
     "user": {
      "displayName": "Melike Akalan",
      "photoUrl": "",
      "userId": "07496756220803219284"
     },
     "user_tz": -180
    },
    "id": "bd-YnUcQ2ox_",
    "outputId": "5ac2a336-4450-4693-bd06-426a2182b948"
   },
   "outputs": [
    {
     "name": "stdout",
     "output_type": "stream",
     "text": [
      "(5000, 30)\n"
     ]
    },
    {
     "data": {
      "text/html": [
       "<div>\n",
       "<style scoped>\n",
       "    .dataframe tbody tr th:only-of-type {\n",
       "        vertical-align: middle;\n",
       "    }\n",
       "\n",
       "    .dataframe tbody tr th {\n",
       "        vertical-align: top;\n",
       "    }\n",
       "\n",
       "    .dataframe thead th {\n",
       "        text-align: right;\n",
       "    }\n",
       "</style>\n",
       "<table border=\"1\" class=\"dataframe\">\n",
       "  <thead>\n",
       "    <tr style=\"text-align: right;\">\n",
       "      <th></th>\n",
       "      <th>contributors</th>\n",
       "      <th>coordinates</th>\n",
       "      <th>text</th>\n",
       "      <th>user</th>\n",
       "      <th>retweet_count</th>\n",
       "      <th>favorited</th>\n",
       "      <th>entities</th>\n",
       "      <th>source</th>\n",
       "      <th>truncated</th>\n",
       "      <th>geo</th>\n",
       "      <th>...</th>\n",
       "      <th>metadata</th>\n",
       "      <th>favorite_count</th>\n",
       "      <th>id_str</th>\n",
       "      <th>id</th>\n",
       "      <th>quoted_status</th>\n",
       "      <th>quoted_status_id</th>\n",
       "      <th>possibly_sensitive</th>\n",
       "      <th>quoted_status_id_str</th>\n",
       "      <th>sentiment</th>\n",
       "      <th>df_id</th>\n",
       "    </tr>\n",
       "  </thead>\n",
       "  <tbody>\n",
       "    <tr>\n",
       "      <th>4995</th>\n",
       "      <td>NaN</td>\n",
       "      <td>None</td>\n",
       "      <td>I wanna change my avi but uSanele :(</td>\n",
       "      <td>{'screen_name': '__Zanele', 'time_zone': None,...</td>\n",
       "      <td>0</td>\n",
       "      <td>False</td>\n",
       "      <td>{'hashtags': [], 'user_mentions': [], 'urls': ...</td>\n",
       "      <td>&lt;a href=\"http://twitter.com\" rel=\"nofollow\"&gt;Tw...</td>\n",
       "      <td>False</td>\n",
       "      <td>None</td>\n",
       "      <td>...</td>\n",
       "      <td>{'iso_language_code': 'en', 'result_type': 're...</td>\n",
       "      <td>0</td>\n",
       "      <td>624516792388599808</td>\n",
       "      <td>624516792388599808</td>\n",
       "      <td>NaN</td>\n",
       "      <td>NaN</td>\n",
       "      <td>NaN</td>\n",
       "      <td>NaN</td>\n",
       "      <td>0</td>\n",
       "      <td>9996</td>\n",
       "    </tr>\n",
       "    <tr>\n",
       "      <th>4996</th>\n",
       "      <td>NaN</td>\n",
       "      <td>None</td>\n",
       "      <td>MY PUPPY BROKE HER FOOT :(</td>\n",
       "      <td>{'screen_name': 'ShawnsToronto', 'time_zone': ...</td>\n",
       "      <td>0</td>\n",
       "      <td>False</td>\n",
       "      <td>{'hashtags': [], 'user_mentions': [], 'urls': ...</td>\n",
       "      <td>&lt;a href=\"http://twitter.com/download/iphone\" r...</td>\n",
       "      <td>False</td>\n",
       "      <td>None</td>\n",
       "      <td>...</td>\n",
       "      <td>{'iso_language_code': 'en', 'result_type': 're...</td>\n",
       "      <td>5</td>\n",
       "      <td>624516790488551424</td>\n",
       "      <td>624516790488551424</td>\n",
       "      <td>NaN</td>\n",
       "      <td>NaN</td>\n",
       "      <td>NaN</td>\n",
       "      <td>NaN</td>\n",
       "      <td>0</td>\n",
       "      <td>9997</td>\n",
       "    </tr>\n",
       "    <tr>\n",
       "      <th>4997</th>\n",
       "      <td>NaN</td>\n",
       "      <td>None</td>\n",
       "      <td>where's all the jaebum baby pictures :((</td>\n",
       "      <td>{'screen_name': 'backtomemp3', 'time_zone': 'E...</td>\n",
       "      <td>0</td>\n",
       "      <td>False</td>\n",
       "      <td>{'hashtags': [], 'user_mentions': [], 'urls': ...</td>\n",
       "      <td>&lt;a href=\"http://twitter.com/#!/download/ipad\" ...</td>\n",
       "      <td>False</td>\n",
       "      <td>None</td>\n",
       "      <td>...</td>\n",
       "      <td>{'iso_language_code': 'en', 'result_type': 're...</td>\n",
       "      <td>0</td>\n",
       "      <td>624516784289390592</td>\n",
       "      <td>624516784289390593</td>\n",
       "      <td>NaN</td>\n",
       "      <td>NaN</td>\n",
       "      <td>NaN</td>\n",
       "      <td>NaN</td>\n",
       "      <td>0</td>\n",
       "      <td>9998</td>\n",
       "    </tr>\n",
       "    <tr>\n",
       "      <th>4998</th>\n",
       "      <td>NaN</td>\n",
       "      <td>None</td>\n",
       "      <td>But but Mr Ahmad Maslan cooks too :( https://t...</td>\n",
       "      <td>{'screen_name': 'syafiqqah', 'time_zone': 'Kua...</td>\n",
       "      <td>0</td>\n",
       "      <td>False</td>\n",
       "      <td>{'hashtags': [], 'user_mentions': [], 'urls': ...</td>\n",
       "      <td>&lt;a href=\"http://twitter.com/download/android\" ...</td>\n",
       "      <td>False</td>\n",
       "      <td>None</td>\n",
       "      <td>...</td>\n",
       "      <td>{'iso_language_code': 'en', 'result_type': 're...</td>\n",
       "      <td>2</td>\n",
       "      <td>624516784226340864</td>\n",
       "      <td>624516784226340864</td>\n",
       "      <td>{'contributors': None, 'coordinates': None, 't...</td>\n",
       "      <td>6.244883e+17</td>\n",
       "      <td>0.0</td>\n",
       "      <td>6.244883e+17</td>\n",
       "      <td>0</td>\n",
       "      <td>9999</td>\n",
       "    </tr>\n",
       "    <tr>\n",
       "      <th>4999</th>\n",
       "      <td>NaN</td>\n",
       "      <td>None</td>\n",
       "      <td>@eawoman As a Hull supporter I am expecting a ...</td>\n",
       "      <td>{'screen_name': 'AndrewByrom1', 'time_zone': N...</td>\n",
       "      <td>0</td>\n",
       "      <td>False</td>\n",
       "      <td>{'hashtags': [], 'user_mentions': [{'id_str': ...</td>\n",
       "      <td>&lt;a href=\"http://twitter.com/download/android\" ...</td>\n",
       "      <td>False</td>\n",
       "      <td>None</td>\n",
       "      <td>...</td>\n",
       "      <td>{'iso_language_code': 'en', 'result_type': 're...</td>\n",
       "      <td>0</td>\n",
       "      <td>624516782557151232</td>\n",
       "      <td>624516782557151232</td>\n",
       "      <td>NaN</td>\n",
       "      <td>NaN</td>\n",
       "      <td>NaN</td>\n",
       "      <td>NaN</td>\n",
       "      <td>0</td>\n",
       "      <td>10000</td>\n",
       "    </tr>\n",
       "  </tbody>\n",
       "</table>\n",
       "<p>5 rows × 30 columns</p>\n",
       "</div>"
      ],
      "text/plain": [
       "      contributors coordinates  \\\n",
       "4995           NaN        None   \n",
       "4996           NaN        None   \n",
       "4997           NaN        None   \n",
       "4998           NaN        None   \n",
       "4999           NaN        None   \n",
       "\n",
       "                                                   text  \\\n",
       "4995               I wanna change my avi but uSanele :(   \n",
       "4996                         MY PUPPY BROKE HER FOOT :(   \n",
       "4997           where's all the jaebum baby pictures :((   \n",
       "4998  But but Mr Ahmad Maslan cooks too :( https://t...   \n",
       "4999  @eawoman As a Hull supporter I am expecting a ...   \n",
       "\n",
       "                                                   user  retweet_count  \\\n",
       "4995  {'screen_name': '__Zanele', 'time_zone': None,...              0   \n",
       "4996  {'screen_name': 'ShawnsToronto', 'time_zone': ...              0   \n",
       "4997  {'screen_name': 'backtomemp3', 'time_zone': 'E...              0   \n",
       "4998  {'screen_name': 'syafiqqah', 'time_zone': 'Kua...              0   \n",
       "4999  {'screen_name': 'AndrewByrom1', 'time_zone': N...              0   \n",
       "\n",
       "      favorited                                           entities  \\\n",
       "4995      False  {'hashtags': [], 'user_mentions': [], 'urls': ...   \n",
       "4996      False  {'hashtags': [], 'user_mentions': [], 'urls': ...   \n",
       "4997      False  {'hashtags': [], 'user_mentions': [], 'urls': ...   \n",
       "4998      False  {'hashtags': [], 'user_mentions': [], 'urls': ...   \n",
       "4999      False  {'hashtags': [], 'user_mentions': [{'id_str': ...   \n",
       "\n",
       "                                                 source  truncated   geo  ...  \\\n",
       "4995  <a href=\"http://twitter.com\" rel=\"nofollow\">Tw...      False  None  ...   \n",
       "4996  <a href=\"http://twitter.com/download/iphone\" r...      False  None  ...   \n",
       "4997  <a href=\"http://twitter.com/#!/download/ipad\" ...      False  None  ...   \n",
       "4998  <a href=\"http://twitter.com/download/android\" ...      False  None  ...   \n",
       "4999  <a href=\"http://twitter.com/download/android\" ...      False  None  ...   \n",
       "\n",
       "                                               metadata  favorite_count  \\\n",
       "4995  {'iso_language_code': 'en', 'result_type': 're...               0   \n",
       "4996  {'iso_language_code': 'en', 'result_type': 're...               5   \n",
       "4997  {'iso_language_code': 'en', 'result_type': 're...               0   \n",
       "4998  {'iso_language_code': 'en', 'result_type': 're...               2   \n",
       "4999  {'iso_language_code': 'en', 'result_type': 're...               0   \n",
       "\n",
       "                  id_str                  id  \\\n",
       "4995  624516792388599808  624516792388599808   \n",
       "4996  624516790488551424  624516790488551424   \n",
       "4997  624516784289390592  624516784289390593   \n",
       "4998  624516784226340864  624516784226340864   \n",
       "4999  624516782557151232  624516782557151232   \n",
       "\n",
       "                                          quoted_status quoted_status_id  \\\n",
       "4995                                                NaN              NaN   \n",
       "4996                                                NaN              NaN   \n",
       "4997                                                NaN              NaN   \n",
       "4998  {'contributors': None, 'coordinates': None, 't...     6.244883e+17   \n",
       "4999                                                NaN              NaN   \n",
       "\n",
       "     possibly_sensitive  quoted_status_id_str  sentiment  df_id  \n",
       "4995                NaN                   NaN          0   9996  \n",
       "4996                NaN                   NaN          0   9997  \n",
       "4997                NaN                   NaN          0   9998  \n",
       "4998                0.0          6.244883e+17          0   9999  \n",
       "4999                NaN                   NaN          0  10000  \n",
       "\n",
       "[5 rows x 30 columns]"
      ]
     },
     "execution_count": 36,
     "metadata": {},
     "output_type": "execute_result"
    }
   ],
   "source": [
    "print(df_neg.shape)\n",
    "df_neg.tail()"
   ]
  },
  {
   "cell_type": "code",
   "execution_count": 37,
   "metadata": {
    "colab": {
     "base_uri": "https://localhost:8080/",
     "height": 534
    },
    "executionInfo": {
     "elapsed": 3424,
     "status": "ok",
     "timestamp": 1619193510637,
     "user": {
      "displayName": "Melike Akalan",
      "photoUrl": "",
      "userId": "07496756220803219284"
     },
     "user_tz": -180
    },
    "id": "k9IlEO2vqCdJ",
    "outputId": "edae7470-83c8-472e-cb77-20c0e42477bb"
   },
   "outputs": [
    {
     "name": "stdout",
     "output_type": "stream",
     "text": [
      "(10000, 30)\n"
     ]
    },
    {
     "data": {
      "text/html": [
       "<div>\n",
       "<style scoped>\n",
       "    .dataframe tbody tr th:only-of-type {\n",
       "        vertical-align: middle;\n",
       "    }\n",
       "\n",
       "    .dataframe tbody tr th {\n",
       "        vertical-align: top;\n",
       "    }\n",
       "\n",
       "    .dataframe thead th {\n",
       "        text-align: right;\n",
       "    }\n",
       "</style>\n",
       "<table border=\"1\" class=\"dataframe\">\n",
       "  <thead>\n",
       "    <tr style=\"text-align: right;\">\n",
       "      <th></th>\n",
       "      <th>contributors</th>\n",
       "      <th>coordinates</th>\n",
       "      <th>text</th>\n",
       "      <th>user</th>\n",
       "      <th>retweet_count</th>\n",
       "      <th>favorited</th>\n",
       "      <th>entities</th>\n",
       "      <th>source</th>\n",
       "      <th>truncated</th>\n",
       "      <th>geo</th>\n",
       "      <th>...</th>\n",
       "      <th>metadata</th>\n",
       "      <th>favorite_count</th>\n",
       "      <th>id_str</th>\n",
       "      <th>id</th>\n",
       "      <th>possibly_sensitive</th>\n",
       "      <th>quoted_status_id</th>\n",
       "      <th>quoted_status</th>\n",
       "      <th>quoted_status_id_str</th>\n",
       "      <th>sentiment</th>\n",
       "      <th>df_id</th>\n",
       "    </tr>\n",
       "  </thead>\n",
       "  <tbody>\n",
       "    <tr>\n",
       "      <th>4995</th>\n",
       "      <td>NaN</td>\n",
       "      <td>None</td>\n",
       "      <td>I wanna change my avi but uSanele :(</td>\n",
       "      <td>{'screen_name': '__Zanele', 'time_zone': None,...</td>\n",
       "      <td>0</td>\n",
       "      <td>False</td>\n",
       "      <td>{'hashtags': [], 'user_mentions': [], 'urls': ...</td>\n",
       "      <td>&lt;a href=\"http://twitter.com\" rel=\"nofollow\"&gt;Tw...</td>\n",
       "      <td>False</td>\n",
       "      <td>None</td>\n",
       "      <td>...</td>\n",
       "      <td>{'iso_language_code': 'en', 'result_type': 're...</td>\n",
       "      <td>0</td>\n",
       "      <td>624516792388599808</td>\n",
       "      <td>624516792388599808</td>\n",
       "      <td>NaN</td>\n",
       "      <td>NaN</td>\n",
       "      <td>NaN</td>\n",
       "      <td>NaN</td>\n",
       "      <td>0</td>\n",
       "      <td>9996</td>\n",
       "    </tr>\n",
       "    <tr>\n",
       "      <th>4996</th>\n",
       "      <td>NaN</td>\n",
       "      <td>None</td>\n",
       "      <td>MY PUPPY BROKE HER FOOT :(</td>\n",
       "      <td>{'screen_name': 'ShawnsToronto', 'time_zone': ...</td>\n",
       "      <td>0</td>\n",
       "      <td>False</td>\n",
       "      <td>{'hashtags': [], 'user_mentions': [], 'urls': ...</td>\n",
       "      <td>&lt;a href=\"http://twitter.com/download/iphone\" r...</td>\n",
       "      <td>False</td>\n",
       "      <td>None</td>\n",
       "      <td>...</td>\n",
       "      <td>{'iso_language_code': 'en', 'result_type': 're...</td>\n",
       "      <td>5</td>\n",
       "      <td>624516790488551424</td>\n",
       "      <td>624516790488551424</td>\n",
       "      <td>NaN</td>\n",
       "      <td>NaN</td>\n",
       "      <td>NaN</td>\n",
       "      <td>NaN</td>\n",
       "      <td>0</td>\n",
       "      <td>9997</td>\n",
       "    </tr>\n",
       "    <tr>\n",
       "      <th>4997</th>\n",
       "      <td>NaN</td>\n",
       "      <td>None</td>\n",
       "      <td>where's all the jaebum baby pictures :((</td>\n",
       "      <td>{'screen_name': 'backtomemp3', 'time_zone': 'E...</td>\n",
       "      <td>0</td>\n",
       "      <td>False</td>\n",
       "      <td>{'hashtags': [], 'user_mentions': [], 'urls': ...</td>\n",
       "      <td>&lt;a href=\"http://twitter.com/#!/download/ipad\" ...</td>\n",
       "      <td>False</td>\n",
       "      <td>None</td>\n",
       "      <td>...</td>\n",
       "      <td>{'iso_language_code': 'en', 'result_type': 're...</td>\n",
       "      <td>0</td>\n",
       "      <td>624516784289390592</td>\n",
       "      <td>624516784289390593</td>\n",
       "      <td>NaN</td>\n",
       "      <td>NaN</td>\n",
       "      <td>NaN</td>\n",
       "      <td>NaN</td>\n",
       "      <td>0</td>\n",
       "      <td>9998</td>\n",
       "    </tr>\n",
       "    <tr>\n",
       "      <th>4998</th>\n",
       "      <td>NaN</td>\n",
       "      <td>None</td>\n",
       "      <td>But but Mr Ahmad Maslan cooks too :( https://t...</td>\n",
       "      <td>{'screen_name': 'syafiqqah', 'time_zone': 'Kua...</td>\n",
       "      <td>0</td>\n",
       "      <td>False</td>\n",
       "      <td>{'hashtags': [], 'user_mentions': [], 'urls': ...</td>\n",
       "      <td>&lt;a href=\"http://twitter.com/download/android\" ...</td>\n",
       "      <td>False</td>\n",
       "      <td>None</td>\n",
       "      <td>...</td>\n",
       "      <td>{'iso_language_code': 'en', 'result_type': 're...</td>\n",
       "      <td>2</td>\n",
       "      <td>624516784226340864</td>\n",
       "      <td>624516784226340864</td>\n",
       "      <td>0.0</td>\n",
       "      <td>6.244883e+17</td>\n",
       "      <td>{'contributors': None, 'coordinates': None, 't...</td>\n",
       "      <td>6.244883e+17</td>\n",
       "      <td>0</td>\n",
       "      <td>9999</td>\n",
       "    </tr>\n",
       "    <tr>\n",
       "      <th>4999</th>\n",
       "      <td>NaN</td>\n",
       "      <td>None</td>\n",
       "      <td>@eawoman As a Hull supporter I am expecting a ...</td>\n",
       "      <td>{'screen_name': 'AndrewByrom1', 'time_zone': N...</td>\n",
       "      <td>0</td>\n",
       "      <td>False</td>\n",
       "      <td>{'hashtags': [], 'user_mentions': [{'id_str': ...</td>\n",
       "      <td>&lt;a href=\"http://twitter.com/download/android\" ...</td>\n",
       "      <td>False</td>\n",
       "      <td>None</td>\n",
       "      <td>...</td>\n",
       "      <td>{'iso_language_code': 'en', 'result_type': 're...</td>\n",
       "      <td>0</td>\n",
       "      <td>624516782557151232</td>\n",
       "      <td>624516782557151232</td>\n",
       "      <td>NaN</td>\n",
       "      <td>NaN</td>\n",
       "      <td>NaN</td>\n",
       "      <td>NaN</td>\n",
       "      <td>0</td>\n",
       "      <td>10000</td>\n",
       "    </tr>\n",
       "  </tbody>\n",
       "</table>\n",
       "<p>5 rows × 30 columns</p>\n",
       "</div>"
      ],
      "text/plain": [
       "      contributors coordinates  \\\n",
       "4995           NaN        None   \n",
       "4996           NaN        None   \n",
       "4997           NaN        None   \n",
       "4998           NaN        None   \n",
       "4999           NaN        None   \n",
       "\n",
       "                                                   text  \\\n",
       "4995               I wanna change my avi but uSanele :(   \n",
       "4996                         MY PUPPY BROKE HER FOOT :(   \n",
       "4997           where's all the jaebum baby pictures :((   \n",
       "4998  But but Mr Ahmad Maslan cooks too :( https://t...   \n",
       "4999  @eawoman As a Hull supporter I am expecting a ...   \n",
       "\n",
       "                                                   user  retweet_count  \\\n",
       "4995  {'screen_name': '__Zanele', 'time_zone': None,...              0   \n",
       "4996  {'screen_name': 'ShawnsToronto', 'time_zone': ...              0   \n",
       "4997  {'screen_name': 'backtomemp3', 'time_zone': 'E...              0   \n",
       "4998  {'screen_name': 'syafiqqah', 'time_zone': 'Kua...              0   \n",
       "4999  {'screen_name': 'AndrewByrom1', 'time_zone': N...              0   \n",
       "\n",
       "      favorited                                           entities  \\\n",
       "4995      False  {'hashtags': [], 'user_mentions': [], 'urls': ...   \n",
       "4996      False  {'hashtags': [], 'user_mentions': [], 'urls': ...   \n",
       "4997      False  {'hashtags': [], 'user_mentions': [], 'urls': ...   \n",
       "4998      False  {'hashtags': [], 'user_mentions': [], 'urls': ...   \n",
       "4999      False  {'hashtags': [], 'user_mentions': [{'id_str': ...   \n",
       "\n",
       "                                                 source  truncated   geo  ...  \\\n",
       "4995  <a href=\"http://twitter.com\" rel=\"nofollow\">Tw...      False  None  ...   \n",
       "4996  <a href=\"http://twitter.com/download/iphone\" r...      False  None  ...   \n",
       "4997  <a href=\"http://twitter.com/#!/download/ipad\" ...      False  None  ...   \n",
       "4998  <a href=\"http://twitter.com/download/android\" ...      False  None  ...   \n",
       "4999  <a href=\"http://twitter.com/download/android\" ...      False  None  ...   \n",
       "\n",
       "                                               metadata  favorite_count  \\\n",
       "4995  {'iso_language_code': 'en', 'result_type': 're...               0   \n",
       "4996  {'iso_language_code': 'en', 'result_type': 're...               5   \n",
       "4997  {'iso_language_code': 'en', 'result_type': 're...               0   \n",
       "4998  {'iso_language_code': 'en', 'result_type': 're...               2   \n",
       "4999  {'iso_language_code': 'en', 'result_type': 're...               0   \n",
       "\n",
       "                  id_str                  id  possibly_sensitive  \\\n",
       "4995  624516792388599808  624516792388599808                 NaN   \n",
       "4996  624516790488551424  624516790488551424                 NaN   \n",
       "4997  624516784289390592  624516784289390593                 NaN   \n",
       "4998  624516784226340864  624516784226340864                 0.0   \n",
       "4999  624516782557151232  624516782557151232                 NaN   \n",
       "\n",
       "     quoted_status_id                                      quoted_status  \\\n",
       "4995              NaN                                                NaN   \n",
       "4996              NaN                                                NaN   \n",
       "4997              NaN                                                NaN   \n",
       "4998     6.244883e+17  {'contributors': None, 'coordinates': None, 't...   \n",
       "4999              NaN                                                NaN   \n",
       "\n",
       "      quoted_status_id_str  sentiment  df_id  \n",
       "4995                   NaN          0   9996  \n",
       "4996                   NaN          0   9997  \n",
       "4997                   NaN          0   9998  \n",
       "4998          6.244883e+17          0   9999  \n",
       "4999                   NaN          0  10000  \n",
       "\n",
       "[5 rows x 30 columns]"
      ]
     },
     "execution_count": 37,
     "metadata": {},
     "output_type": "execute_result"
    }
   ],
   "source": [
    "# İki json dosyası dataframe üzerinde satırları eklenerek birleştirildi\n",
    "df_tam = pd.concat([df_pos, df_neg])\n",
    "print(df_tam.shape)\n",
    "df_tam.tail()"
   ]
  },
  {
   "cell_type": "code",
   "execution_count": 38,
   "metadata": {
    "colab": {
     "base_uri": "https://localhost:8080/"
    },
    "executionInfo": {
     "elapsed": 3417,
     "status": "ok",
     "timestamp": 1619193510639,
     "user": {
      "displayName": "Melike Akalan",
      "photoUrl": "",
      "userId": "07496756220803219284"
     },
     "user_tz": -180
    },
    "id": "ZdEvGFUdsVzW",
    "outputId": "7c5136cb-ab03-47ec-c11c-a67e9bc346f1"
   },
   "outputs": [
    {
     "data": {
      "text/plain": [
       "contributors                 10000\n",
       "coordinates                   9937\n",
       "text                             0\n",
       "user                             0\n",
       "retweet_count                    0\n",
       "favorited                        0\n",
       "entities                         0\n",
       "source                           0\n",
       "truncated                        0\n",
       "geo                           9937\n",
       "in_reply_to_status_id_str     5490\n",
       "is_quote_status                  0\n",
       "in_reply_to_user_id_str       4668\n",
       "place                         9505\n",
       "in_reply_to_status_id         5490\n",
       "in_reply_to_screen_name       4668\n",
       "lang                             0\n",
       "retweeted                        0\n",
       "in_reply_to_user_id           4668\n",
       "created_at                       0\n",
       "metadata                         0\n",
       "favorite_count                   0\n",
       "id_str                           0\n",
       "id                               0\n",
       "possibly_sensitive            8338\n",
       "quoted_status_id              9675\n",
       "quoted_status                 9676\n",
       "quoted_status_id_str          9675\n",
       "sentiment                        0\n",
       "df_id                            0\n",
       "dtype: int64"
      ]
     },
     "execution_count": 38,
     "metadata": {},
     "output_type": "execute_result"
    }
   ],
   "source": [
    "df_tam.isnull().sum()"
   ]
  },
  {
   "cell_type": "code",
   "execution_count": 39,
   "metadata": {
    "colab": {
     "base_uri": "https://localhost:8080/"
    },
    "executionInfo": {
     "elapsed": 3413,
     "status": "ok",
     "timestamp": 1619193510640,
     "user": {
      "displayName": "Melike Akalan",
      "photoUrl": "",
      "userId": "07496756220803219284"
     },
     "user_tz": -180
    },
    "id": "Gu57fuqSsXtF",
    "outputId": "f9c91d73-9488-45e2-faf1-a78058478be9",
    "scrolled": false
   },
   "outputs": [
    {
     "name": "stdout",
     "output_type": "stream",
     "text": [
      "<class 'pandas.core.frame.DataFrame'>\n",
      "Int64Index: 10000 entries, 0 to 4999\n",
      "Data columns (total 30 columns):\n",
      " #   Column                     Non-Null Count  Dtype              \n",
      "---  ------                     --------------  -----              \n",
      " 0   contributors               0 non-null      float64            \n",
      " 1   coordinates                63 non-null     object             \n",
      " 2   text                       10000 non-null  object             \n",
      " 3   user                       10000 non-null  object             \n",
      " 4   retweet_count              10000 non-null  int64              \n",
      " 5   favorited                  10000 non-null  bool               \n",
      " 6   entities                   10000 non-null  object             \n",
      " 7   source                     10000 non-null  object             \n",
      " 8   truncated                  10000 non-null  bool               \n",
      " 9   geo                        63 non-null     object             \n",
      " 10  in_reply_to_status_id_str  4510 non-null   float64            \n",
      " 11  is_quote_status            10000 non-null  bool               \n",
      " 12  in_reply_to_user_id_str    5332 non-null   float64            \n",
      " 13  place                      495 non-null    object             \n",
      " 14  in_reply_to_status_id      4510 non-null   float64            \n",
      " 15  in_reply_to_screen_name    5332 non-null   object             \n",
      " 16  lang                       10000 non-null  object             \n",
      " 17  retweeted                  10000 non-null  bool               \n",
      " 18  in_reply_to_user_id        5332 non-null   float64            \n",
      " 19  created_at                 10000 non-null  datetime64[ns, UTC]\n",
      " 20  metadata                   10000 non-null  object             \n",
      " 21  favorite_count             10000 non-null  int64              \n",
      " 22  id_str                     10000 non-null  int64              \n",
      " 23  id                         10000 non-null  int64              \n",
      " 24  possibly_sensitive         1662 non-null   float64            \n",
      " 25  quoted_status_id           325 non-null    float64            \n",
      " 26  quoted_status              324 non-null    object             \n",
      " 27  quoted_status_id_str       325 non-null    float64            \n",
      " 28  sentiment                  10000 non-null  int64              \n",
      " 29  df_id                      10000 non-null  int64              \n",
      "dtypes: bool(4), datetime64[ns, UTC](1), float64(8), int64(6), object(11)\n",
      "memory usage: 2.1+ MB\n"
     ]
    }
   ],
   "source": [
    "df_tam.info()"
   ]
  },
  {
   "cell_type": "code",
   "execution_count": 40,
   "metadata": {
    "colab": {
     "base_uri": "https://localhost:8080/",
     "height": 106
    },
    "executionInfo": {
     "elapsed": 3407,
     "status": "ok",
     "timestamp": 1619193510642,
     "user": {
      "displayName": "Melike Akalan",
      "photoUrl": "",
      "userId": "07496756220803219284"
     },
     "user_tz": -180
    },
    "id": "a9lGD2q3Vgbd",
    "outputId": "c6a57609-554e-4286-ecc0-f081fc63f257"
   },
   "outputs": [
    {
     "data": {
      "text/html": [
       "<div>\n",
       "<style scoped>\n",
       "    .dataframe tbody tr th:only-of-type {\n",
       "        vertical-align: middle;\n",
       "    }\n",
       "\n",
       "    .dataframe tbody tr th {\n",
       "        vertical-align: top;\n",
       "    }\n",
       "\n",
       "    .dataframe thead th {\n",
       "        text-align: right;\n",
       "    }\n",
       "</style>\n",
       "<table border=\"1\" class=\"dataframe\">\n",
       "  <thead>\n",
       "    <tr style=\"text-align: right;\">\n",
       "      <th></th>\n",
       "      <th>count</th>\n",
       "      <th>mean</th>\n",
       "      <th>std</th>\n",
       "      <th>min</th>\n",
       "      <th>25%</th>\n",
       "      <th>50%</th>\n",
       "      <th>75%</th>\n",
       "      <th>max</th>\n",
       "    </tr>\n",
       "  </thead>\n",
       "  <tbody>\n",
       "    <tr>\n",
       "      <th>sentiment</th>\n",
       "      <td>10000.0</td>\n",
       "      <td>0.5</td>\n",
       "      <td>0.500025</td>\n",
       "      <td>0.0</td>\n",
       "      <td>0.0</td>\n",
       "      <td>0.5</td>\n",
       "      <td>1.0</td>\n",
       "      <td>1.0</td>\n",
       "    </tr>\n",
       "  </tbody>\n",
       "</table>\n",
       "</div>"
      ],
      "text/plain": [
       "             count  mean       std  min  25%  50%  75%  max\n",
       "sentiment  10000.0   0.5  0.500025  0.0  0.0  0.5  1.0  1.0"
      ]
     },
     "execution_count": 40,
     "metadata": {},
     "output_type": "execute_result"
    }
   ],
   "source": [
    "# Benzersiz 10000 tweet, 2 türdür.\n",
    "df_tam[['text','sentiment']].describe().T"
   ]
  },
  {
   "cell_type": "code",
   "execution_count": 41,
   "metadata": {
    "colab": {
     "base_uri": "https://localhost:8080/",
     "height": 279
    },
    "executionInfo": {
     "elapsed": 3399,
     "status": "ok",
     "timestamp": 1619193510644,
     "user": {
      "displayName": "Melike Akalan",
      "photoUrl": "",
      "userId": "07496756220803219284"
     },
     "user_tz": -180
    },
    "id": "pbJMZO8HqmOf",
    "outputId": "72f0c766-6352-4ce7-e55a-1cfeafdac7e3"
   },
   "outputs": [
    {
     "data": {
      "image/png": "[encoded data removed]",
      "text/plain": [
       "<Figure size 432x288 with 1 Axes>"
      ]
     },
     "metadata": {
      "needs_background": "light"
     },
     "output_type": "display_data"
    }
   ],
   "source": [
    "import seaborn as sns\n",
    "ax = sns.countplot(x=\"sentiment\", data=df_tam)"
   ]
  },
  {
   "cell_type": "code",
   "execution_count": 42,
   "metadata": {
    "colab": {
     "base_uri": "https://localhost:8080/",
     "height": 402
    },
    "executionInfo": {
     "elapsed": 3657,
     "status": "ok",
     "timestamp": 1619193510910,
     "user": {
      "displayName": "Melike Akalan",
      "photoUrl": "",
      "userId": "07496756220803219284"
     },
     "user_tz": -180
    },
    "id": "zJTwt-CAA3Yb",
    "outputId": "94b59d73-6ce2-40a4-81be-c08b41c46525"
   },
   "outputs": [
    {
     "data": {
      "text/html": [
       "<div>\n",
       "<style scoped>\n",
       "    .dataframe tbody tr th:only-of-type {\n",
       "        vertical-align: middle;\n",
       "    }\n",
       "\n",
       "    .dataframe tbody tr th {\n",
       "        vertical-align: top;\n",
       "    }\n",
       "\n",
       "    .dataframe thead th {\n",
       "        text-align: right;\n",
       "    }\n",
       "</style>\n",
       "<table border=\"1\" class=\"dataframe\">\n",
       "  <thead>\n",
       "    <tr style=\"text-align: right;\">\n",
       "      <th></th>\n",
       "      <th>df_id</th>\n",
       "      <th>text</th>\n",
       "      <th>sentiment</th>\n",
       "    </tr>\n",
       "  </thead>\n",
       "  <tbody>\n",
       "    <tr>\n",
       "      <th>0</th>\n",
       "      <td>1</td>\n",
       "      <td>#FollowFriday @France_Inte @PKuchly57 @Milipol...</td>\n",
       "      <td>1</td>\n",
       "    </tr>\n",
       "    <tr>\n",
       "      <th>1</th>\n",
       "      <td>2</td>\n",
       "      <td>@Lamb2ja Hey James! How odd :/ Please call our...</td>\n",
       "      <td>1</td>\n",
       "    </tr>\n",
       "    <tr>\n",
       "      <th>2</th>\n",
       "      <td>3</td>\n",
       "      <td>@DespiteOfficial we had a listen last night :)...</td>\n",
       "      <td>1</td>\n",
       "    </tr>\n",
       "    <tr>\n",
       "      <th>3</th>\n",
       "      <td>4</td>\n",
       "      <td>@97sides CONGRATS :)</td>\n",
       "      <td>1</td>\n",
       "    </tr>\n",
       "    <tr>\n",
       "      <th>4</th>\n",
       "      <td>5</td>\n",
       "      <td>yeaaaah yippppy!!!  my accnt verified rqst has...</td>\n",
       "      <td>1</td>\n",
       "    </tr>\n",
       "    <tr>\n",
       "      <th>...</th>\n",
       "      <td>...</td>\n",
       "      <td>...</td>\n",
       "      <td>...</td>\n",
       "    </tr>\n",
       "    <tr>\n",
       "      <th>4995</th>\n",
       "      <td>9996</td>\n",
       "      <td>I wanna change my avi but uSanele :(</td>\n",
       "      <td>0</td>\n",
       "    </tr>\n",
       "    <tr>\n",
       "      <th>4996</th>\n",
       "      <td>9997</td>\n",
       "      <td>MY PUPPY BROKE HER FOOT :(</td>\n",
       "      <td>0</td>\n",
       "    </tr>\n",
       "    <tr>\n",
       "      <th>4997</th>\n",
       "      <td>9998</td>\n",
       "      <td>where's all the jaebum baby pictures :((</td>\n",
       "      <td>0</td>\n",
       "    </tr>\n",
       "    <tr>\n",
       "      <th>4998</th>\n",
       "      <td>9999</td>\n",
       "      <td>But but Mr Ahmad Maslan cooks too :( https://t...</td>\n",
       "      <td>0</td>\n",
       "    </tr>\n",
       "    <tr>\n",
       "      <th>4999</th>\n",
       "      <td>10000</td>\n",
       "      <td>@eawoman As a Hull supporter I am expecting a ...</td>\n",
       "      <td>0</td>\n",
       "    </tr>\n",
       "  </tbody>\n",
       "</table>\n",
       "<p>10000 rows × 3 columns</p>\n",
       "</div>"
      ],
      "text/plain": [
       "      df_id                                               text  sentiment\n",
       "0         1  #FollowFriday @France_Inte @PKuchly57 @Milipol...          1\n",
       "1         2  @Lamb2ja Hey James! How odd :/ Please call our...          1\n",
       "2         3  @DespiteOfficial we had a listen last night :)...          1\n",
       "3         4                               @97sides CONGRATS :)          1\n",
       "4         5  yeaaaah yippppy!!!  my accnt verified rqst has...          1\n",
       "...     ...                                                ...        ...\n",
       "4995   9996               I wanna change my avi but uSanele :(          0\n",
       "4996   9997                         MY PUPPY BROKE HER FOOT :(          0\n",
       "4997   9998           where's all the jaebum baby pictures :((          0\n",
       "4998   9999  But but Mr Ahmad Maslan cooks too :( https://t...          0\n",
       "4999  10000  @eawoman As a Hull supporter I am expecting a ...          0\n",
       "\n",
       "[10000 rows x 3 columns]"
      ]
     },
     "execution_count": 42,
     "metadata": {},
     "output_type": "execute_result"
    }
   ],
   "source": [
    "df_tam[['df_id','text','sentiment']]"
   ]
  },
  {
   "cell_type": "code",
   "execution_count": 43,
   "metadata": {
    "colab": {
     "base_uri": "https://localhost:8080/"
    },
    "executionInfo": {
     "elapsed": 6187,
     "status": "ok",
     "timestamp": 1619193513446,
     "user": {
      "displayName": "Melike Akalan",
      "photoUrl": "",
      "userId": "07496756220803219284"
     },
     "user_tz": -180
    },
    "id": "S78JDePEQZHA",
    "outputId": "cabc38a7-9889-480c-fcb1-7cd5504a596e"
   },
   "outputs": [
    {
     "name": "stdout",
     "output_type": "stream",
     "text": [
      "Requirement already satisfied: nltk in c:\\users\\buseyalcin\\anaconda3\\lib\\site-packages (3.5)\n",
      "Requirement already satisfied: click in c:\\users\\buseyalcin\\anaconda3\\lib\\site-packages (from nltk) (7.1.2)\n",
      "Requirement already satisfied: tqdm in c:\\users\\buseyalcin\\anaconda3\\lib\\site-packages (from nltk) (4.50.2)\n",
      "Requirement already satisfied: joblib in c:\\users\\buseyalcin\\anaconda3\\lib\\site-packages (from nltk) (0.17.0)\n",
      "Requirement already satisfied: regex in c:\\users\\buseyalcin\\anaconda3\\lib\\site-packages (from nltk) (2020.10.15)\n",
      "Note: you may need to restart the kernel to use updated packages.\n"
     ]
    }
   ],
   "source": [
    "pip install nltk"
   ]
  },
  {
   "cell_type": "code",
   "execution_count": 44,
   "metadata": {
    "colab": {
     "base_uri": "https://localhost:8080/"
    },
    "executionInfo": {
     "elapsed": 6182,
     "status": "ok",
     "timestamp": 1619193513447,
     "user": {
      "displayName": "Melike Akalan",
      "photoUrl": "",
      "userId": "07496756220803219284"
     },
     "user_tz": -180
    },
    "id": "2jxHqyX8QgHU",
    "outputId": "8bbf1bd2-9e80-4139-ac72-0b40fd220bb6"
   },
   "outputs": [
    {
     "name": "stderr",
     "output_type": "stream",
     "text": [
      "[nltk_data] Downloading package punkt to\n",
      "[nltk_data]     C:\\Users\\Buseyalcin\\AppData\\Roaming\\nltk_data...\n",
      "[nltk_data]   Unzipping tokenizers\\punkt.zip.\n",
      "[nltk_data] Downloading package wordnet to\n",
      "[nltk_data]     C:\\Users\\Buseyalcin\\AppData\\Roaming\\nltk_data...\n",
      "[nltk_data]   Unzipping corpora\\wordnet.zip.\n"
     ]
    },
    {
     "data": {
      "text/plain": [
       "True"
      ]
     },
     "execution_count": 44,
     "metadata": {},
     "output_type": "execute_result"
    }
   ],
   "source": [
    "# dosyayı root/nltk_data/corpara/tokenizers/punkt yolu içerisine download eder.\n",
    "import nltk\n",
    "nltk.download('punkt')\n",
    "nltk.download('wordnet')"
   ]
  },
  {
   "cell_type": "markdown",
   "metadata": {},
   "source": [
    "# Preprocessing"
   ]
  },
  {
   "cell_type": "code",
   "execution_count": 50,
   "metadata": {
    "executionInfo": {
     "elapsed": 6178,
     "status": "ok",
     "timestamp": 1619193513448,
     "user": {
      "displayName": "Melike Akalan",
      "photoUrl": "",
      "userId": "07496756220803219284"
     },
     "user_tz": -180
    },
    "id": "uvgBU8oPLLIj"
   },
   "outputs": [],
   "source": [
    "import re                                  # regular expressions kütüphanesi\n",
    "import string                              # string operations icin\n",
    "from nltk.corpus import stopwords          \n",
    "from nltk.stem import PorterStemmer        \n",
    "from nltk.tokenize import TweetTokenizer   \n",
    "from nltk.tokenize import word_tokenize, sent_tokenize\n",
    "from nltk.stem import WordNetLemmatizer\n",
    "#from itertools import chain"
   ]
  },
  {
   "cell_type": "code",
   "execution_count": 51,
   "metadata": {},
   "outputs": [
    {
     "data": {
      "text/html": [
       "<div>\n",
       "<style scoped>\n",
       "    .dataframe tbody tr th:only-of-type {\n",
       "        vertical-align: middle;\n",
       "    }\n",
       "\n",
       "    .dataframe tbody tr th {\n",
       "        vertical-align: top;\n",
       "    }\n",
       "\n",
       "    .dataframe thead th {\n",
       "        text-align: right;\n",
       "    }\n",
       "</style>\n",
       "<table border=\"1\" class=\"dataframe\">\n",
       "  <thead>\n",
       "    <tr style=\"text-align: right;\">\n",
       "      <th></th>\n",
       "      <th>sentiment</th>\n",
       "      <th>text</th>\n",
       "    </tr>\n",
       "  </thead>\n",
       "  <tbody>\n",
       "    <tr>\n",
       "      <th>0</th>\n",
       "      <td>1</td>\n",
       "      <td>top engaged members community week</td>\n",
       "    </tr>\n",
       "    <tr>\n",
       "      <th>1</th>\n",
       "      <td>1</td>\n",
       "      <td>odd call able assist thanks</td>\n",
       "    </tr>\n",
       "    <tr>\n",
       "      <th>2</th>\n",
       "      <td>1</td>\n",
       "      <td>listen last night amazing track</td>\n",
       "    </tr>\n",
       "    <tr>\n",
       "      <th>3</th>\n",
       "      <td>1</td>\n",
       "      <td></td>\n",
       "    </tr>\n",
       "    <tr>\n",
       "      <th>4</th>\n",
       "      <td>1</td>\n",
       "      <td>yeaaaah yippppy accnt verified rqst succeed go...</td>\n",
       "    </tr>\n",
       "    <tr>\n",
       "      <th>...</th>\n",
       "      <td>...</td>\n",
       "      <td>...</td>\n",
       "    </tr>\n",
       "    <tr>\n",
       "      <th>4995</th>\n",
       "      <td>0</td>\n",
       "      <td>wan na change avi usanele</td>\n",
       "    </tr>\n",
       "    <tr>\n",
       "      <th>4996</th>\n",
       "      <td>0</td>\n",
       "      <td></td>\n",
       "    </tr>\n",
       "    <tr>\n",
       "      <th>4997</th>\n",
       "      <td>0</td>\n",
       "      <td>jaebum baby pictures</td>\n",
       "    </tr>\n",
       "    <tr>\n",
       "      <th>4998</th>\n",
       "      <td>0</td>\n",
       "      <td>cooks https</td>\n",
       "    </tr>\n",
       "    <tr>\n",
       "      <th>4999</th>\n",
       "      <td>0</td>\n",
       "      <td>eawoman supporter expecting misserable weeks</td>\n",
       "    </tr>\n",
       "  </tbody>\n",
       "</table>\n",
       "<p>10000 rows × 2 columns</p>\n",
       "</div>"
      ],
      "text/plain": [
       "      sentiment                                               text\n",
       "0             1                 top engaged members community week\n",
       "1             1                        odd call able assist thanks\n",
       "2             1                    listen last night amazing track\n",
       "3             1                                                   \n",
       "4             1  yeaaaah yippppy accnt verified rqst succeed go...\n",
       "...         ...                                                ...\n",
       "4995          0                          wan na change avi usanele\n",
       "4996          0                                                   \n",
       "4997          0                               jaebum baby pictures\n",
       "4998          0                                        cooks https\n",
       "4999          0       eawoman supporter expecting misserable weeks\n",
       "\n",
       "[10000 rows x 2 columns]"
      ]
     },
     "execution_count": 51,
     "metadata": {},
     "output_type": "execute_result"
    }
   ],
   "source": [
    "df_tam[['sentiment','text']]"
   ]
  },
  {
   "cell_type": "code",
   "execution_count": 52,
   "metadata": {},
   "outputs": [
    {
     "name": "stdout",
     "output_type": "stream",
     "text": [
      "Tokenization completed.\n",
      "stop words removed.\n",
      "Number, punctuation and special characters removed.\n",
      "Stemming completed.\n",
      "Data cleaning completed. \n",
      "\n"
     ]
    },
    {
     "data": {
      "text/html": [
       "<div>\n",
       "<style scoped>\n",
       "    .dataframe tbody tr th:only-of-type {\n",
       "        vertical-align: middle;\n",
       "    }\n",
       "\n",
       "    .dataframe tbody tr th {\n",
       "        vertical-align: top;\n",
       "    }\n",
       "\n",
       "    .dataframe thead th {\n",
       "        text-align: right;\n",
       "    }\n",
       "</style>\n",
       "<table border=\"1\" class=\"dataframe\">\n",
       "  <thead>\n",
       "    <tr style=\"text-align: right;\">\n",
       "      <th></th>\n",
       "      <th>sentiment</th>\n",
       "      <th>text</th>\n",
       "    </tr>\n",
       "  </thead>\n",
       "  <tbody>\n",
       "    <tr>\n",
       "      <th>0</th>\n",
       "      <td>1</td>\n",
       "      <td>top engaged members community week</td>\n",
       "    </tr>\n",
       "    <tr>\n",
       "      <th>1</th>\n",
       "      <td>1</td>\n",
       "      <td>odd call able assist thanks</td>\n",
       "    </tr>\n",
       "    <tr>\n",
       "      <th>2</th>\n",
       "      <td>1</td>\n",
       "      <td>listen last night amazing track</td>\n",
       "    </tr>\n",
       "    <tr>\n",
       "      <th>3</th>\n",
       "      <td>1</td>\n",
       "      <td></td>\n",
       "    </tr>\n",
       "    <tr>\n",
       "      <th>4</th>\n",
       "      <td>1</td>\n",
       "      <td>yeaaaah yippppy accnt verified rqst succeed go...</td>\n",
       "    </tr>\n",
       "    <tr>\n",
       "      <th>...</th>\n",
       "      <td>...</td>\n",
       "      <td>...</td>\n",
       "    </tr>\n",
       "    <tr>\n",
       "      <th>4995</th>\n",
       "      <td>0</td>\n",
       "      <td>wan na change avi usanele</td>\n",
       "    </tr>\n",
       "    <tr>\n",
       "      <th>4996</th>\n",
       "      <td>0</td>\n",
       "      <td></td>\n",
       "    </tr>\n",
       "    <tr>\n",
       "      <th>4997</th>\n",
       "      <td>0</td>\n",
       "      <td>jaebum baby pictures</td>\n",
       "    </tr>\n",
       "    <tr>\n",
       "      <th>4998</th>\n",
       "      <td>0</td>\n",
       "      <td>cooks https</td>\n",
       "    </tr>\n",
       "    <tr>\n",
       "      <th>4999</th>\n",
       "      <td>0</td>\n",
       "      <td>eawoman supporter expecting misserable weeks</td>\n",
       "    </tr>\n",
       "  </tbody>\n",
       "</table>\n",
       "<p>10000 rows × 2 columns</p>\n",
       "</div>"
      ],
      "text/plain": [
       "      sentiment                                               text\n",
       "0             1                 top engaged members community week\n",
       "1             1                        odd call able assist thanks\n",
       "2             1                    listen last night amazing track\n",
       "3             1                                                   \n",
       "4             1  yeaaaah yippppy accnt verified rqst succeed go...\n",
       "...         ...                                                ...\n",
       "4995          0                          wan na change avi usanele\n",
       "4996          0                                                   \n",
       "4997          0                               jaebum baby pictures\n",
       "4998          0                                        cooks https\n",
       "4999          0       eawoman supporter expecting misserable weeks\n",
       "\n",
       "[10000 rows x 2 columns]"
      ]
     },
     "execution_count": 52,
     "metadata": {},
     "output_type": "execute_result"
    }
   ],
   "source": [
    "def Preprocessing(df):\n",
    "    \n",
    "    df['text'] = df['text'].apply(word_tokenize)\n",
    "    print('Tokenization completed.')\n",
    "    \n",
    "    stop_words = set(stopwords.words(\"english\"))\n",
    "    df['text'] = df['text'].apply(lambda x: [item for item in x if item not in stop_words])\n",
    "    print('stop words removed.')\n",
    "    \n",
    "    regex = '[a-z]+'\n",
    "    df['text'] = df['text'].apply(lambda x: [item for item in x if re.match(regex, item)] )\n",
    "    print('Number, punctuation and special characters removed.')\n",
    "     \n",
    "    lem = WordNetLemmatizer()\n",
    "    df['text1'] = df['text'].apply(lambda x:[lem.lemmatize(item) for item in x])\n",
    "    print('Stemming completed.')\n",
    "    print('Data cleaning completed. \\n')\n",
    "    \n",
    "    df['text'] = df['text'].apply(lambda x: \" \".join(item.lower() for item in x))\n",
    "    \n",
    "    return df\n",
    "\n",
    "df_tam=Preprocessing(df_tam)\n",
    "df_tam[['sentiment','text']]"
   ]
  },
  {
   "cell_type": "code",
   "execution_count": 53,
   "metadata": {
    "colab": {
     "base_uri": "https://localhost:8080/"
    },
    "executionInfo": {
     "elapsed": 10560,
     "status": "ok",
     "timestamp": 1619193517844,
     "user": {
      "displayName": "Melike Akalan",
      "photoUrl": "",
      "userId": "07496756220803219284"
     },
     "user_tz": -180
    },
    "id": "kgrCDiYu9FHq",
    "outputId": "e2e99282-1c96-4cf5-c6e9-16bccaa3f9d7"
   },
   "outputs": [
    {
     "name": "stdout",
     "output_type": "stream",
     "text": [
      "4349    flimflammery oh white rabbit cutest thing ever...\n",
      "3754                                made calum layout liv\n",
      "1401                                  thought today https\n",
      "4474                                        going room bc\n",
      "1028                     paddock found rolling us weekend\n",
      "                              ...                        \n",
      "1113                                moar kittehs incoming\n",
      "1776    tou young hi hai na abhi talk baloch never goi...\n",
      "2233                      fun even though wo n't able see\n",
      "423     plan read brand new cook book figure make dinn...\n",
      "2746                                      lol right wrote\n",
      "Name: text, Length: 8000, dtype: object\n"
     ]
    }
   ],
   "source": [
    "# random state ile aynı veri seti üzerinde çalışma sağlanır\n",
    "from sklearn.model_selection import train_test_split\n",
    "X_train, X_test, y_train, y_test =train_test_split(df_tam['text'], df_tam['sentiment'], test_size=0.2, random_state=256)\n",
    "print(X_train)"
   ]
  },
  {
   "cell_type": "markdown",
   "metadata": {},
   "source": [
    "# Metin Dönüşümü\n",
    "\n",
    "* Her bir tweet(doküman) temsil eder.\n",
    "* CountVectorizer terimleri alfabaye göre sıralar, matrisi de buna göre oluşturur.\n",
    "*  Eğitim verisi hem fit hem de transform edilir.\n"
   ]
  },
  {
   "cell_type": "code",
   "execution_count": 54,
   "metadata": {
    "colab": {
     "base_uri": "https://localhost:8080/"
    },
    "executionInfo": {
     "elapsed": 842,
     "status": "ok",
     "timestamp": 1619193729764,
     "user": {
      "displayName": "Melike Akalan",
      "photoUrl": "",
      "userId": "07496756220803219284"
     },
     "user_tz": -180
    },
    "id": "xzrCpN6HW0NS",
    "outputId": "ec2951f4-bb35-4244-9aa1-fa3cd7ca4516"
   },
   "outputs": [
    {
     "name": "stdout",
     "output_type": "stream",
     "text": [
      "  (0, 537)\t0.4350701705466022\n",
      "  (0, 429)\t0.4847084964330092\n",
      "  (0, 128)\t0.44755613383581283\n",
      "  (0, 489)\t0.44755613383581283\n",
      "  (0, 358)\t0.4185195745936885\n",
      "  (1, 308)\t1.0\n",
      "  (2, 233)\t0.44700531754819656\n",
      "  (2, 502)\t0.5451620457176166\n",
      "  (2, 495)\t0.7092140649991506\n",
      "  (3, 43)\t0.5712070567871222\n",
      "  (3, 415)\t0.6704415431395224\n",
      "  (3, 188)\t0.4735299731899652\n",
      "  (4, 551)\t0.5415186660708456\n",
      "  (4, 528)\t0.4942729628374745\n",
      "  (4, 166)\t0.6800380669526643\n",
      "  (5, 127)\t0.5010889683700059\n",
      "  (5, 418)\t0.5830013678007183\n",
      "  (5, 465)\t0.6395461288448041\n",
      "  (6, 568)\t0.7560683426816327\n",
      "  (6, 461)\t0.6544926746684406\n",
      "  (7, 272)\t0.6942559908660549\n",
      "  (7, 499)\t0.7197281564219871\n",
      "  (9, 375)\t0.6448597812273303\n",
      "  (9, 313)\t0.7643008979161543\n",
      "  (10, 77)\t0.7829511181889273\n",
      "  :\t:\n",
      "  (7993, 25)\t0.40953232843105264\n",
      "  (7993, 349)\t0.34864367876034935\n",
      "  (7993, 232)\t0.2178047064981403\n",
      "  (7993, 532)\t0.3926986589574553\n",
      "  (7993, 550)\t0.3761684927669661\n",
      "  (7994, 326)\t1.0\n",
      "  (7996, 480)\t0.4299136929206232\n",
      "  (7996, 348)\t0.40202174044864647\n",
      "  (7996, 361)\t0.47133735026224755\n",
      "  (7996, 220)\t0.4405177211077238\n",
      "  (7996, 343)\t0.32754884407248097\n",
      "  (7996, 188)\t0.360624085760499\n",
      "  (7997, 0)\t0.47330480926744367\n",
      "  (7997, 494)\t0.4156717570825348\n",
      "  (7997, 173)\t0.3946405797994226\n",
      "  (7997, 426)\t0.3400855463493497\n",
      "  (7997, 561)\t0.42209168784148837\n",
      "  (7997, 127)\t0.39196784164417176\n",
      "  (7998, 57)\t0.506572597221386\n",
      "  (7998, 403)\t0.4875631078738813\n",
      "  (7998, 507)\t0.45818530877074903\n",
      "  (7998, 349)\t0.3655825186954601\n",
      "  (7998, 309)\t0.4025941684074401\n",
      "  (7999, 413)\t0.6857973114422632\n",
      "  (7999, 292)\t0.7277925855754257\n"
     ]
    }
   ],
   "source": [
    "from sklearn.feature_extraction.text import TfidfVectorizer\n",
    "from sklearn.feature_extraction.text import CountVectorizer\n",
    "\n",
    "vectorizer = TfidfVectorizer( sublinear_tf = True,\n",
    "                             ngram_range = (1,1),\n",
    "                             max_df = 0.5,\n",
    "                             min_df = 10,\n",
    "                             max_features = 3000)\n",
    "vectorizer.fit(X_train)\n",
    "train_MATRIX = vectorizer.fit_transform(X_train)\n",
    "print(train_MATRIX)"
   ]
  },
  {
   "cell_type": "code",
   "execution_count": 55,
   "metadata": {
    "colab": {
     "base_uri": "https://localhost:8080/",
     "height": 422
    },
    "executionInfo": {
     "elapsed": 1265,
     "status": "ok",
     "timestamp": 1619193731061,
     "user": {
      "displayName": "Melike Akalan",
      "photoUrl": "",
      "userId": "07496756220803219284"
     },
     "user_tz": -180
    },
    "id": "f7JuYsPRc497",
    "outputId": "487ca416-83e4-4771-8219-d27720cbb937"
   },
   "outputs": [
    {
     "data": {
      "text/html": [
       "<div>\n",
       "<style scoped>\n",
       "    .dataframe tbody tr th:only-of-type {\n",
       "        vertical-align: middle;\n",
       "    }\n",
       "\n",
       "    .dataframe tbody tr th {\n",
       "        vertical-align: top;\n",
       "    }\n",
       "\n",
       "    .dataframe thead th {\n",
       "        text-align: right;\n",
       "    }\n",
       "</style>\n",
       "<table border=\"1\" class=\"dataframe\">\n",
       "  <thead>\n",
       "    <tr style=\"text-align: right;\">\n",
       "      <th></th>\n",
       "      <th>able</th>\n",
       "      <th>account</th>\n",
       "      <th>actually</th>\n",
       "      <th>add</th>\n",
       "      <th>address</th>\n",
       "      <th>af</th>\n",
       "      <th>ago</th>\n",
       "      <th>agree</th>\n",
       "      <th>ah</th>\n",
       "      <th>album</th>\n",
       "      <th>...</th>\n",
       "      <th>xx</th>\n",
       "      <th>xxx</th>\n",
       "      <th>ya</th>\n",
       "      <th>yeah</th>\n",
       "      <th>year</th>\n",
       "      <th>years</th>\n",
       "      <th>yes</th>\n",
       "      <th>yesterday</th>\n",
       "      <th>yet</th>\n",
       "      <th>zaynmalik</th>\n",
       "    </tr>\n",
       "  </thead>\n",
       "  <tbody>\n",
       "    <tr>\n",
       "      <th>0</th>\n",
       "      <td>0.000000</td>\n",
       "      <td>0.0</td>\n",
       "      <td>0.0</td>\n",
       "      <td>0.0</td>\n",
       "      <td>0.0</td>\n",
       "      <td>0.0</td>\n",
       "      <td>0.0</td>\n",
       "      <td>0.0</td>\n",
       "      <td>0.0</td>\n",
       "      <td>0.0</td>\n",
       "      <td>...</td>\n",
       "      <td>0.0</td>\n",
       "      <td>0.0</td>\n",
       "      <td>0.0</td>\n",
       "      <td>0.0</td>\n",
       "      <td>0.0</td>\n",
       "      <td>0.0</td>\n",
       "      <td>0.0</td>\n",
       "      <td>0.0</td>\n",
       "      <td>0.0</td>\n",
       "      <td>0.0</td>\n",
       "    </tr>\n",
       "    <tr>\n",
       "      <th>1</th>\n",
       "      <td>0.000000</td>\n",
       "      <td>0.0</td>\n",
       "      <td>0.0</td>\n",
       "      <td>0.0</td>\n",
       "      <td>0.0</td>\n",
       "      <td>0.0</td>\n",
       "      <td>0.0</td>\n",
       "      <td>0.0</td>\n",
       "      <td>0.0</td>\n",
       "      <td>0.0</td>\n",
       "      <td>...</td>\n",
       "      <td>0.0</td>\n",
       "      <td>0.0</td>\n",
       "      <td>0.0</td>\n",
       "      <td>0.0</td>\n",
       "      <td>0.0</td>\n",
       "      <td>0.0</td>\n",
       "      <td>0.0</td>\n",
       "      <td>0.0</td>\n",
       "      <td>0.0</td>\n",
       "      <td>0.0</td>\n",
       "    </tr>\n",
       "    <tr>\n",
       "      <th>2</th>\n",
       "      <td>0.000000</td>\n",
       "      <td>0.0</td>\n",
       "      <td>0.0</td>\n",
       "      <td>0.0</td>\n",
       "      <td>0.0</td>\n",
       "      <td>0.0</td>\n",
       "      <td>0.0</td>\n",
       "      <td>0.0</td>\n",
       "      <td>0.0</td>\n",
       "      <td>0.0</td>\n",
       "      <td>...</td>\n",
       "      <td>0.0</td>\n",
       "      <td>0.0</td>\n",
       "      <td>0.0</td>\n",
       "      <td>0.0</td>\n",
       "      <td>0.0</td>\n",
       "      <td>0.0</td>\n",
       "      <td>0.0</td>\n",
       "      <td>0.0</td>\n",
       "      <td>0.0</td>\n",
       "      <td>0.0</td>\n",
       "    </tr>\n",
       "    <tr>\n",
       "      <th>3</th>\n",
       "      <td>0.000000</td>\n",
       "      <td>0.0</td>\n",
       "      <td>0.0</td>\n",
       "      <td>0.0</td>\n",
       "      <td>0.0</td>\n",
       "      <td>0.0</td>\n",
       "      <td>0.0</td>\n",
       "      <td>0.0</td>\n",
       "      <td>0.0</td>\n",
       "      <td>0.0</td>\n",
       "      <td>...</td>\n",
       "      <td>0.0</td>\n",
       "      <td>0.0</td>\n",
       "      <td>0.0</td>\n",
       "      <td>0.0</td>\n",
       "      <td>0.0</td>\n",
       "      <td>0.0</td>\n",
       "      <td>0.0</td>\n",
       "      <td>0.0</td>\n",
       "      <td>0.0</td>\n",
       "      <td>0.0</td>\n",
       "    </tr>\n",
       "    <tr>\n",
       "      <th>4</th>\n",
       "      <td>0.000000</td>\n",
       "      <td>0.0</td>\n",
       "      <td>0.0</td>\n",
       "      <td>0.0</td>\n",
       "      <td>0.0</td>\n",
       "      <td>0.0</td>\n",
       "      <td>0.0</td>\n",
       "      <td>0.0</td>\n",
       "      <td>0.0</td>\n",
       "      <td>0.0</td>\n",
       "      <td>...</td>\n",
       "      <td>0.0</td>\n",
       "      <td>0.0</td>\n",
       "      <td>0.0</td>\n",
       "      <td>0.0</td>\n",
       "      <td>0.0</td>\n",
       "      <td>0.0</td>\n",
       "      <td>0.0</td>\n",
       "      <td>0.0</td>\n",
       "      <td>0.0</td>\n",
       "      <td>0.0</td>\n",
       "    </tr>\n",
       "    <tr>\n",
       "      <th>...</th>\n",
       "      <td>...</td>\n",
       "      <td>...</td>\n",
       "      <td>...</td>\n",
       "      <td>...</td>\n",
       "      <td>...</td>\n",
       "      <td>...</td>\n",
       "      <td>...</td>\n",
       "      <td>...</td>\n",
       "      <td>...</td>\n",
       "      <td>...</td>\n",
       "      <td>...</td>\n",
       "      <td>...</td>\n",
       "      <td>...</td>\n",
       "      <td>...</td>\n",
       "      <td>...</td>\n",
       "      <td>...</td>\n",
       "      <td>...</td>\n",
       "      <td>...</td>\n",
       "      <td>...</td>\n",
       "      <td>...</td>\n",
       "      <td>...</td>\n",
       "    </tr>\n",
       "    <tr>\n",
       "      <th>7995</th>\n",
       "      <td>0.000000</td>\n",
       "      <td>0.0</td>\n",
       "      <td>0.0</td>\n",
       "      <td>0.0</td>\n",
       "      <td>0.0</td>\n",
       "      <td>0.0</td>\n",
       "      <td>0.0</td>\n",
       "      <td>0.0</td>\n",
       "      <td>0.0</td>\n",
       "      <td>0.0</td>\n",
       "      <td>...</td>\n",
       "      <td>0.0</td>\n",
       "      <td>0.0</td>\n",
       "      <td>0.0</td>\n",
       "      <td>0.0</td>\n",
       "      <td>0.0</td>\n",
       "      <td>0.0</td>\n",
       "      <td>0.0</td>\n",
       "      <td>0.0</td>\n",
       "      <td>0.0</td>\n",
       "      <td>0.0</td>\n",
       "    </tr>\n",
       "    <tr>\n",
       "      <th>7996</th>\n",
       "      <td>0.000000</td>\n",
       "      <td>0.0</td>\n",
       "      <td>0.0</td>\n",
       "      <td>0.0</td>\n",
       "      <td>0.0</td>\n",
       "      <td>0.0</td>\n",
       "      <td>0.0</td>\n",
       "      <td>0.0</td>\n",
       "      <td>0.0</td>\n",
       "      <td>0.0</td>\n",
       "      <td>...</td>\n",
       "      <td>0.0</td>\n",
       "      <td>0.0</td>\n",
       "      <td>0.0</td>\n",
       "      <td>0.0</td>\n",
       "      <td>0.0</td>\n",
       "      <td>0.0</td>\n",
       "      <td>0.0</td>\n",
       "      <td>0.0</td>\n",
       "      <td>0.0</td>\n",
       "      <td>0.0</td>\n",
       "    </tr>\n",
       "    <tr>\n",
       "      <th>7997</th>\n",
       "      <td>0.473305</td>\n",
       "      <td>0.0</td>\n",
       "      <td>0.0</td>\n",
       "      <td>0.0</td>\n",
       "      <td>0.0</td>\n",
       "      <td>0.0</td>\n",
       "      <td>0.0</td>\n",
       "      <td>0.0</td>\n",
       "      <td>0.0</td>\n",
       "      <td>0.0</td>\n",
       "      <td>...</td>\n",
       "      <td>0.0</td>\n",
       "      <td>0.0</td>\n",
       "      <td>0.0</td>\n",
       "      <td>0.0</td>\n",
       "      <td>0.0</td>\n",
       "      <td>0.0</td>\n",
       "      <td>0.0</td>\n",
       "      <td>0.0</td>\n",
       "      <td>0.0</td>\n",
       "      <td>0.0</td>\n",
       "    </tr>\n",
       "    <tr>\n",
       "      <th>7998</th>\n",
       "      <td>0.000000</td>\n",
       "      <td>0.0</td>\n",
       "      <td>0.0</td>\n",
       "      <td>0.0</td>\n",
       "      <td>0.0</td>\n",
       "      <td>0.0</td>\n",
       "      <td>0.0</td>\n",
       "      <td>0.0</td>\n",
       "      <td>0.0</td>\n",
       "      <td>0.0</td>\n",
       "      <td>...</td>\n",
       "      <td>0.0</td>\n",
       "      <td>0.0</td>\n",
       "      <td>0.0</td>\n",
       "      <td>0.0</td>\n",
       "      <td>0.0</td>\n",
       "      <td>0.0</td>\n",
       "      <td>0.0</td>\n",
       "      <td>0.0</td>\n",
       "      <td>0.0</td>\n",
       "      <td>0.0</td>\n",
       "    </tr>\n",
       "    <tr>\n",
       "      <th>7999</th>\n",
       "      <td>0.000000</td>\n",
       "      <td>0.0</td>\n",
       "      <td>0.0</td>\n",
       "      <td>0.0</td>\n",
       "      <td>0.0</td>\n",
       "      <td>0.0</td>\n",
       "      <td>0.0</td>\n",
       "      <td>0.0</td>\n",
       "      <td>0.0</td>\n",
       "      <td>0.0</td>\n",
       "      <td>...</td>\n",
       "      <td>0.0</td>\n",
       "      <td>0.0</td>\n",
       "      <td>0.0</td>\n",
       "      <td>0.0</td>\n",
       "      <td>0.0</td>\n",
       "      <td>0.0</td>\n",
       "      <td>0.0</td>\n",
       "      <td>0.0</td>\n",
       "      <td>0.0</td>\n",
       "      <td>0.0</td>\n",
       "    </tr>\n",
       "  </tbody>\n",
       "</table>\n",
       "<p>8000 rows × 589 columns</p>\n",
       "</div>"
      ],
      "text/plain": [
       "          able  account  actually  add  address   af  ago  agree   ah  album  \\\n",
       "0     0.000000      0.0       0.0  0.0      0.0  0.0  0.0    0.0  0.0    0.0   \n",
       "1     0.000000      0.0       0.0  0.0      0.0  0.0  0.0    0.0  0.0    0.0   \n",
       "2     0.000000      0.0       0.0  0.0      0.0  0.0  0.0    0.0  0.0    0.0   \n",
       "3     0.000000      0.0       0.0  0.0      0.0  0.0  0.0    0.0  0.0    0.0   \n",
       "4     0.000000      0.0       0.0  0.0      0.0  0.0  0.0    0.0  0.0    0.0   \n",
       "...        ...      ...       ...  ...      ...  ...  ...    ...  ...    ...   \n",
       "7995  0.000000      0.0       0.0  0.0      0.0  0.0  0.0    0.0  0.0    0.0   \n",
       "7996  0.000000      0.0       0.0  0.0      0.0  0.0  0.0    0.0  0.0    0.0   \n",
       "7997  0.473305      0.0       0.0  0.0      0.0  0.0  0.0    0.0  0.0    0.0   \n",
       "7998  0.000000      0.0       0.0  0.0      0.0  0.0  0.0    0.0  0.0    0.0   \n",
       "7999  0.000000      0.0       0.0  0.0      0.0  0.0  0.0    0.0  0.0    0.0   \n",
       "\n",
       "      ...   xx  xxx   ya  yeah  year  years  yes  yesterday  yet  zaynmalik  \n",
       "0     ...  0.0  0.0  0.0   0.0   0.0    0.0  0.0        0.0  0.0        0.0  \n",
       "1     ...  0.0  0.0  0.0   0.0   0.0    0.0  0.0        0.0  0.0        0.0  \n",
       "2     ...  0.0  0.0  0.0   0.0   0.0    0.0  0.0        0.0  0.0        0.0  \n",
       "3     ...  0.0  0.0  0.0   0.0   0.0    0.0  0.0        0.0  0.0        0.0  \n",
       "4     ...  0.0  0.0  0.0   0.0   0.0    0.0  0.0        0.0  0.0        0.0  \n",
       "...   ...  ...  ...  ...   ...   ...    ...  ...        ...  ...        ...  \n",
       "7995  ...  0.0  0.0  0.0   0.0   0.0    0.0  0.0        0.0  0.0        0.0  \n",
       "7996  ...  0.0  0.0  0.0   0.0   0.0    0.0  0.0        0.0  0.0        0.0  \n",
       "7997  ...  0.0  0.0  0.0   0.0   0.0    0.0  0.0        0.0  0.0        0.0  \n",
       "7998  ...  0.0  0.0  0.0   0.0   0.0    0.0  0.0        0.0  0.0        0.0  \n",
       "7999  ...  0.0  0.0  0.0   0.0   0.0    0.0  0.0        0.0  0.0        0.0  \n",
       "\n",
       "[8000 rows x 589 columns]"
      ]
     },
     "execution_count": 55,
     "metadata": {},
     "output_type": "execute_result"
    }
   ],
   "source": [
    "# Burdaki feature(özellik) her bir tweet deki her bir terimdir\n",
    "results = pd.DataFrame(train_MATRIX.toarray(), columns=vectorizer.get_feature_names())\n",
    "results"
   ]
  },
  {
   "cell_type": "code",
   "execution_count": 56,
   "metadata": {
    "colab": {
     "base_uri": "https://localhost:8080/"
    },
    "executionInfo": {
     "elapsed": 860,
     "status": "ok",
     "timestamp": 1619193731063,
     "user": {
      "displayName": "Melike Akalan",
      "photoUrl": "",
      "userId": "07496756220803219284"
     },
     "user_tz": -180
    },
    "id": "GL3rd8NUXj1X",
    "outputId": "b8909bef-7f98-40d1-f471-510419e48f84"
   },
   "outputs": [
    {
     "name": "stdout",
     "output_type": "stream",
     "text": [
      "(2000, 589)\n",
      "(8000, 589)\n"
     ]
    }
   ],
   "source": [
    "# Test verisi fit edilmez yani featurelara dahil edilmez\n",
    "# Burda da test matrisi oluşturulur\n",
    "Test_X_Tdif = vectorizer.transform(X_test)\n",
    "print(Test_X_Tdif.shape)\n",
    "print(train_MATRIX.shape)"
   ]
  },
  {
   "cell_type": "code",
   "execution_count": 57,
   "metadata": {
    "colab": {
     "base_uri": "https://localhost:8080/"
    },
    "executionInfo": {
     "elapsed": 421,
     "status": "ok",
     "timestamp": 1619193731064,
     "user": {
      "displayName": "Melike Akalan",
      "photoUrl": "",
      "userId": "07496756220803219284"
     },
     "user_tz": -180
    },
    "id": "Yz0Bm9b2X8vH",
    "outputId": "f0dbd0eb-95e9-4ee7-908e-912bea782c52"
   },
   "outputs": [
    {
     "name": "stdout",
     "output_type": "stream",
     "text": [
      "[('oh', 358), ('thing', 489), ('ever', 128), ('seen', 429), ('wait', 537), ('made', 308), ('thought', 495), ('today', 502), ('https', 233), ('going', 188), ('room', 415), ('bc', 43), ('found', 166), ('us', 528), ('weekend', 551), ('stream', 465), ('said', 418), ('even', 127), ('still', 461), ('working', 568), ('time', 499), ('know', 272), ('many', 313), ('people', 375), ('could', 90), ('change', 77), ('lost', 298), ('album', 9), ('ca', 66), ('remember', 410), ('dreams', 113), ('love', 301), ('sharing', 436), ('eyes', 133), ('soon', 453), ('go', 185), ('first', 154), ('really', 407), ('dont', 111), ('wan', 540), ('na', 343), ('home', 224), ('top', 509), ('members', 321), ('community', 87), ('week', 550), ('hell', 216), ('feel', 146), ('like', 285), ('happened', 207), ('try', 517), ('get', 177), ('email', 122), ('bit', 53), ('info', 249), ('ur', 527), ('let', 281), ('tweets', 520), ('happy', 209), ('birthday', 52), ('hope', 225), ('good', 191), ('one', 363), ('keep', 259), ('travel', 513), ('sleep', 445), ('wo', 561), ('wake', 539), ('thanks', 487), ('favorite', 142), ('city', 81), ('ice', 241), ('cream', 93), ('chocolate', 80), ('cake', 67), ('need', 346), ('amp', 15), ('seeing', 427), ('number', 356), ('yesterday', 586), ('great', 195), ('want', 541), ('world', 570), ('yet', 587), ('back', 38), ('ask', 26), ('rain', 401), ('issue', 253), ('idk', 243), ('cant', 70), ('gt', 197), ('started', 459), ('well', 555), ('guess', 198), ('last', 274), ('probably', 395), ('follow', 156), ('bestfriend', 49), ('loves', 304), ('lot', 299), ('lt', 305), ('via', 532), ('http', 232), ('sure', 475), ('find', 151), ('huhu', 237), ('yeah', 582), ('yes', 585), ('making', 311), ('next', 351), ('full', 172), ('everything', 131), ('okay', 360), ('point', 391), ('aw', 30), ('babe', 36), ('feeling', 147), ('favourite', 143), ('always', 13), ('welcome', 554), ('twitter', 521), ('family', 138), ('friends', 169), ('stay', 460), ('since', 442), ('start', 458), ('please', 388), ('day', 99), ('finally', 150), ('wish', 559), ('year', 583), ('team', 483), ('im', 245), ('sad', 417), ('make', 309), ('justinbieber', 258), ('x15', 578), ('finished', 153), ('stuck', 467), ('hours', 230), ('view', 535), ('kid', 261), ('ok', 359), ('help', 218), ('watch', 544), ('match', 314), ('food', 162), ('bad', 39), ('used', 530), ('someone', 449), ('head', 212), ('would', 574), ('amazing', 14), ('driving', 114), ('months', 334), ('see', 426), ('shit', 437), ('enough', 126), ('crying', 95), ('fair', 136), ('answer', 17), ('getting', 179), ('least', 277), ('cute', 97), ('care', 72), ('song', 452), ('already', 11), ('chance', 76), ('long', 293), ('ago', 6), ('come', 85), ('done', 110), ('busy', 64), ('house', 231), ('got', 194), ('ill', 244), ('aww', 34), ('catch', 74), ('blog', 55), ('hi', 220), ('look', 295), ('page', 368), ('definitely', 103), ('best', 48), ('place', 384), ('fuck', 170), ('snapchat', 448), ('followback', 157), ('end', 123), ('pain', 369), ('boy', 59), ('fun', 173), ('worth', 573), ('gift', 180), ('using', 531), ('money', 332), ('mention', 322), ('think', 491), ('life', 283), ('something', 450), ('take', 478), ('night', 353), ('either', 120), ('though', 494), ('dear', 102), ('miss', 326), ('ya', 581), ('gon', 189), ('haha', 202), ('sounds', 456), ('nice', 352), ('lol', 292), ('tweet', 519), ('smile', 447), ('enjoy', 124), ('everyone', 130), ('makes', 310), ('jnlazts', 255), ('guys', 200), ('much', 339), ('also', 12), ('jealous', 254), ('together', 503), ('took', 508), ('photo', 379), ('forward', 165), ('hate', 211), ('cool', 89), ('win', 558), ('damn', 98), ('forgot', 164), ('hot', 228), ('right', 413), ('every', 129), ('times', 500), ('bed', 46), ('sorry', 455), ('friend', 168), ('kikhorny', 266), ('kikmeboys', 267), ('hornykik', 227), ('maybe', 316), ('coming', 86), ('sick', 439), ('say', 420), ('account', 1), ('face', 135), ('heart', 215), ('another', 16), ('new', 349), ('missing', 328), ('mine', 325), ('morning', 335), ('girl', 181), ('close', 82), ('agree', 7), ('pretty', 394), ('looks', 297), ('sun', 472), ('weeks', 552), ('came', 69), ('hour', 229), ('went', 556), ('kik', 263), ('kikchat', 264), ('indiemusic', 247), ('use', 529), ('man', 312), ('longer', 294), ('cold', 84), ('zaynmalik', 588), ('followed', 158), ('arrived', 25), ('follower', 159), ('unfollowers', 525), ('hear', 213), ('address', 4), ('send', 430), ('sent', 431), ('order', 366), ('set', 432), ('tomorrow', 506), ('two', 522), ('live', 291), ('early', 118), ('fall', 137), ('asleep', 28), ('stop', 462), ('words', 566), ('person', 377), ('cry', 94), ('old', 361), ('lucky', 307), ('heard', 214), ('way', 547), ('thank', 486), ('following', 161), ('check', 79), ('work', 567), ('leaving', 279), ('awww', 35), ('lovely', 303), ('big', 51), ('tonight', 507), ('tho', 493), ('raining', 402), ('dude', 115), ('add', 3), ('omg', 362), ('inside', 250), ('anyone', 19), ('understand', 524), ('website', 549), ('better', 50), ('never', 348), ('impastel', 246), ('concert', 88), ('country', 91), ('hard', 210), ('cat', 73), ('awesome', 33), ('open', 365), ('notice', 355), ('luck', 306), ('question', 399), ('wrong', 577), ('move', 336), ('hahaha', 203), ('stuff', 468), ('put', 398), ('looking', 296), ('able', 0), ('hopefully', 226), ('videos', 534), ('sore', 454), ('almost', 10), ('game', 175), ('cut', 96), ('away', 32), ('bae', 41), ('hug', 234), ('followers', 160), ('fine', 152), ('badly', 40), ('scared', 423), ('tbh', 482), ('pls', 390), ('free', 167), ('coffee', 83), ('proud', 397), ('far', 141), ('things', 490), ('visit', 536), ('site', 444), ('excited', 132), ('gone', 190), ('pics', 382), ('holiday', 223), ('reason', 408), ('mum', 340), ('idea', 242), ('worry', 571), ('lets', 282), ('literally', 289), ('give', 183), ('tickets', 497), ('tried', 514), ('saw', 419), ('mom', 330), ('water', 546), ('anymore', 18), ('video', 533), ('real', 406), ('around', 24), ('wanted', 542), ('sa', 416), ('side', 440), ('brother', 63), ('ko', 273), ('mind', 324), ('goodnight', 193), ('school', 424), ('hit', 222), ('quite', 400), ('little', 290), ('watching', 545), ('totally', 510), ('fucking', 171), ('xx', 579), ('missed', 327), ('pass', 373), ('feedback', 145), ('retweet', 412), ('store', 463), ('ha', 201), ('sucks', 470), ('means', 318), ('weather', 548), ('tell', 484), ('believe', 47), ('phone', 378), ('tired', 501), ('eat', 119), ('beautiful', 45), ('later', 276), ('chat', 78), ('summer', 471), ('poor', 392), ('girls', 182), ('plans', 385), ('hello', 217), ('seems', 428), ('talk', 480), ('playing', 387), ('must', 342), ('kikgirl', 265), ('left', 280), ('thinking', 492), ('post', 393), ('rn', 414), ('interested', 251), ('movies', 338), ('movie', 337), ('meet', 319), ('xxx', 580), ('funny', 174), ('dm', 108), ('huge', 235), ('glad', 184), ('pic', 380), ('course', 92), ('hey', 219), ('years', 584), ('fback', 144), ('days', 100), ('rest', 411), ('thats', 488), ('job', 256), ('picture', 383), ('read', 403), ('part', 371), ('fans', 140), ('ff', 148), ('paper', 370), ('listen', 288), ('wow', 575), ('says', 422), ('appreciate', 23), ('hurt', 239), ('meeting', 320), ('hair', 204), ('stupid', 469), ('gets', 178), ('anything', 20), ('lots', 300), ('weird', 553), ('wants', 543), ('call', 68), ('unfortunately', 526), ('play', 386), ('black', 54), ('problem', 396), ('pleasure', 389), ('wonder', 562), ('may', 315), ('wont', 564), ('bro', 62), ('link', 287), ('might', 323), ('trying', 518), ('dream', 112), ('asked', 27), ('late', 275), ('talking', 481), ('body', 56), ('liked', 286), ('online', 364), ('hungry', 238), ('awake', 31), ('name', 344), ('goodbye', 192), ('stage', 457), ('actually', 2), ('month', 333), ('anyway', 21), ('waiting', 538), ('works', 569), ('kikmenow', 268), ('didnt', 105), ('perfect', 376), ('light', 284), ('knew', 271), ('till', 498), ('sir', 443), ('baby', 37), ('bring', 61), ('share', 435), ('others', 367), ('mean', 317), ('cause', 75), ('fab', 134), ('office', 357), ('bored', 58), ('news', 350), ('af', 5), ('fan', 139), ('ready', 405), ('keeps', 260), ('hurts', 240), ('true', 516), ('sweet', 476), ('text', 485), ('sex', 433), ('earlier', 117), ('half', 205), ('buy', 65), ('leave', 278), ('write', 576), ('goes', 187), ('music', 341), ('happens', 208), ('three', 496), ('dog', 109), ('else', 121), ('group', 196), ('super', 473), ('wonderful', 563), ('show', 438), ('support', 474), ('boys', 60), ('app', 22), ('due', 116), ('touch', 511), ('pay', 374), ('sign', 441), ('worst', 572), ('ugh', 523), ('guy', 199), ('strong', 466), ('nothing', 354), ('kinda', 270), ('whole', 557), ('taking', 479), ('loved', 302), ('follback', 155), ('model', 329), ('saying', 421), ('car', 71), ('trip', 515), ('forget', 163), ('invite', 252), ('received', 409), ('influencers', 248), ('sexy', 434), ('available', 29), ('ah', 8), ('without', 560), ('party', 372), ('needs', 347), ('hugs', 236), ('moment', 331), ('kind', 269), ('season', 425), ('different', 107), ('book', 57), ('story', 464), ('word', 565), ('reading', 404), ('sometimes', 451), ('near', 345), ('high', 221), ('tolajobjobs', 504), ('bag', 42), ('dead', 101), ('games', 176), ('small', 446), ('die', 106), ('enjoyed', 125), ('god', 186), ('kids', 262), ('ta', 477), ('pick', 381), ('bday', 44), ('tour', 512), ('told', 505), ('happen', 206), ('join', 257), ('final', 149), ('design', 104)]\n"
     ]
    }
   ],
   "source": [
    "# Eğitim verisiyle fit olan kelime dağarcığı\n",
    "# thing kelimes 478 indisteki kelime\n",
    "vocab = list(vectorizer.vocabulary_.items())\n",
    "print(vocab)"
   ]
  },
  {
   "cell_type": "markdown",
   "metadata": {},
   "source": [
    "# Naive Bayes"
   ]
  },
  {
   "cell_type": "code",
   "execution_count": 58,
   "metadata": {
    "colab": {
     "base_uri": "https://localhost:8080/"
    },
    "executionInfo": {
     "elapsed": 651,
     "status": "ok",
     "timestamp": 1619193710719,
     "user": {
      "displayName": "Melike Akalan",
      "photoUrl": "",
      "userId": "07496756220803219284"
     },
     "user_tz": -180
    },
    "id": "Bzm3ERvXYKhb",
    "outputId": "7569cf10-dfb6-402f-b61d-846cd4bdae0f"
   },
   "outputs": [
    {
     "data": {
      "text/plain": [
       "BernoulliNB()"
      ]
     },
     "execution_count": 58,
     "metadata": {},
     "output_type": "execute_result"
    }
   ],
   "source": [
    "from sklearn import model_selection, naive_bayes, svm\n",
    "\n",
    "Naive = naive_bayes.BernoulliNB() #binary classification\n",
    "Naive.fit(train_MATRIX, y_train)"
   ]
  },
  {
   "cell_type": "code",
   "execution_count": 59,
   "metadata": {
    "colab": {
     "base_uri": "https://localhost:8080/"
    },
    "executionInfo": {
     "elapsed": 866,
     "status": "ok",
     "timestamp": 1619193712333,
     "user": {
      "displayName": "Melike Akalan",
      "photoUrl": "",
      "userId": "07496756220803219284"
     },
     "user_tz": -180
    },
    "id": "K9WPwztZZbYC",
    "outputId": "fe436b52-4fdb-4775-d601-b4a1153d56a2"
   },
   "outputs": [
    {
     "name": "stdout",
     "output_type": "stream",
     "text": [
      "Naive Bayes Accuracy Score:  67.95\n"
     ]
    }
   ],
   "source": [
    "from sklearn.metrics import accuracy_score, classification_report, confusion_matrix\n",
    "\n",
    "predictions_NB = Naive.predict(Test_X_Tdif)\n",
    "print(\"Naive Bayes Accuracy Score: \", accuracy_score(predictions_NB, y_test)*100)"
   ]
  },
  {
   "cell_type": "markdown",
   "metadata": {},
   "source": [
    "##  Confusion Matrix\n",
    "*  Accuracy  : doğru tahmin edilen veri oranı                                               TP+TN / P+N\n",
    "*  Precision:  positive/negative  tahminlerden kaçının gerçekten  positive/negative olduğu    TP / (TP+FP)\n",
    "*  Recall:     TPR(gerçek  positive/negative  tweetleri tespit etme oranı )                   TP / P     \n",
    "* F1-score:    precision ve recall un harmonik ortalaması\n",
    "\n",
    "Matriste toplam 2000 veri var yani test için ayırdığımız veri sayısı.\n",
    "Bunlardan 762+599=1361 doğru, 404+235=639 tanesini yanlış tahmin etmiş."
   ]
  },
  {
   "cell_type": "code",
   "execution_count": 60,
   "metadata": {},
   "outputs": [
    {
     "name": "stdout",
     "output_type": "stream",
     "text": [
      "[[763 234]\n",
      " [407 596]]\n"
     ]
    }
   ],
   "source": [
    "cm = confusion_matrix(y_test, predictions_NB)\n",
    "print(cm)"
   ]
  },
  {
   "cell_type": "code",
   "execution_count": 61,
   "metadata": {
    "colab": {
     "base_uri": "https://localhost:8080/"
    },
    "executionInfo": {
     "elapsed": 11058,
     "status": "ok",
     "timestamp": 1619193518367,
     "user": {
      "displayName": "Melike Akalan",
      "photoUrl": "",
      "userId": "07496756220803219284"
     },
     "user_tz": -180
    },
    "id": "puO9rusvmr05",
    "outputId": "b3f25d70-8c59-4827-d348-4047effea29b"
   },
   "outputs": [
    {
     "name": "stdout",
     "output_type": "stream",
     "text": [
      "              precision    recall  f1-score   support\n",
      "\n",
      "           0       0.65      0.77      0.70       997\n",
      "           1       0.72      0.59      0.65      1003\n",
      "\n",
      "    accuracy                           0.68      2000\n",
      "   macro avg       0.69      0.68      0.68      2000\n",
      "weighted avg       0.69      0.68      0.68      2000\n",
      "\n"
     ]
    }
   ],
   "source": [
    "print(classification_report(y_test,predictions_NB))"
   ]
  },
  {
   "cell_type": "markdown",
   "metadata": {},
   "source": [
    "# Svm (Support Vector Machine)"
   ]
  },
  {
   "cell_type": "code",
   "execution_count": 62,
   "metadata": {
    "colab": {
     "base_uri": "https://localhost:8080/"
    },
    "executionInfo": {
     "elapsed": 13873,
     "status": "ok",
     "timestamp": 1619193521185,
     "user": {
      "displayName": "Melike Akalan",
      "photoUrl": "",
      "userId": "07496756220803219284"
     },
     "user_tz": -180
    },
    "id": "Nh6sBz1QakO4",
    "outputId": "5938b214-68b4-404e-d252-119358e0e124"
   },
   "outputs": [
    {
     "name": "stdout",
     "output_type": "stream",
     "text": [
      "SVM Accuracy Score:  67.95\n"
     ]
    }
   ],
   "source": [
    "# rbf yerine 'linear' yaptığımızda başarı artar\n",
    "\n",
    "SVM = svm.SVC(kernel='linear', random_state=0, C=1.0, degree=3, gamma='auto', probability=True)\n",
    "SVM.fit(train_MATRIX, y_train)\n",
    "\n",
    "predictions_SVM = SVM.predict(Test_X_Tdif)\n",
    "print(\"SVM Accuracy Score: \", accuracy_score(predictions_SVM, y_test)*100)"
   ]
  },
  {
   "cell_type": "code",
   "execution_count": 63,
   "metadata": {
    "colab": {
     "base_uri": "https://localhost:8080/"
    },
    "executionInfo": {
     "elapsed": 13871,
     "status": "ok",
     "timestamp": 1619193521186,
     "user": {
      "displayName": "Melike Akalan",
      "photoUrl": "",
      "userId": "07496756220803219284"
     },
     "user_tz": -180
    },
    "id": "WK7lJ2dhe_3a",
    "outputId": "8f6e1227-a8b9-41c7-be67-2190c51e2ceb"
   },
   "outputs": [
    {
     "name": "stdout",
     "output_type": "stream",
     "text": [
      "              precision    recall  f1-score   support\n",
      "\n",
      "           0       0.65      0.76      0.70       997\n",
      "           1       0.72      0.60      0.65      1003\n",
      "\n",
      "    accuracy                           0.68      2000\n",
      "   macro avg       0.68      0.68      0.68      2000\n",
      "weighted avg       0.68      0.68      0.68      2000\n",
      "\n"
     ]
    }
   ],
   "source": [
    "print(classification_report(y_test,predictions_SVM))"
   ]
  },
  {
   "cell_type": "code",
   "execution_count": 64,
   "metadata": {},
   "outputs": [],
   "source": [
    "from sklearn import metrics\n",
    "\n",
    "#sınıflamanın tüm eşikleri için FPR ve TPR’yi hesaplar\n",
    "probs = SVM.predict_proba(Test_X_Tdif)\n",
    "probs = probs[:, 1]\n",
    "svm_fpr, svm_tpr, thresholds = metrics.roc_curve(y_test, probs)\n",
    "svm_auc = metrics.roc_auc_score(y_test, probs)"
   ]
  },
  {
   "cell_type": "code",
   "execution_count": 65,
   "metadata": {},
   "outputs": [
    {
     "data": {
      "image/png": "[encoded data removed]",
      "text/plain": [
       "<Figure size 432x288 with 1 Axes>"
      ]
     },
     "metadata": {
      "needs_background": "light"
     },
     "output_type": "display_data"
    }
   ],
   "source": [
    "# ROC Eğrisi\n",
    "\n",
    "# AUC: ROC Eğrisinin Altındaki Alandır\n",
    "# AUC yüksek ise model daha iyi tahmin yapmış demektir.\n",
    "\n",
    "plt.title('ROC Curve')\n",
    "plt.plot([0, 1], [0, 1], linestyle='--')\n",
    "plt.plot(svm_fpr, svm_tpr, 'b', marker='.', label = 'SVM = %0.3f' % svm_auc )\n",
    "\n",
    "plt.legend(loc = 'lower right')\n",
    "plt.ylabel('True Positive Rate')\n",
    "plt.xlabel('False Positive Rate')\n",
    "plt.show()"
   ]
  },
  {
   "cell_type": "markdown",
   "metadata": {},
   "source": [
    "# Lojistik Regresyon"
   ]
  },
  {
   "cell_type": "code",
   "execution_count": 40,
   "metadata": {},
   "outputs": [
    {
     "data": {
      "text/plain": [
       "LogisticRegression(random_state=0)"
      ]
     },
     "execution_count": 40,
     "metadata": {},
     "output_type": "execute_result"
    }
   ],
   "source": [
    "from sklearn.linear_model import LogisticRegression\n",
    "LR = LogisticRegression(random_state = 0)\n",
    "LR.fit(train_MATRIX, y_train)"
   ]
  },
  {
   "cell_type": "code",
   "execution_count": 41,
   "metadata": {},
   "outputs": [],
   "source": [
    "predictions_LR = LR.predict(Test_X_Tdif)"
   ]
  },
  {
   "cell_type": "code",
   "execution_count": 42,
   "metadata": {},
   "outputs": [
    {
     "name": "stdout",
     "output_type": "stream",
     "text": [
      "              precision    recall  f1-score   support\n",
      "\n",
      "           0       0.66      0.76      0.71       997\n",
      "           1       0.72      0.62      0.66      1003\n",
      "\n",
      "    accuracy                           0.69      2000\n",
      "   macro avg       0.69      0.69      0.69      2000\n",
      "weighted avg       0.69      0.69      0.68      2000\n",
      "\n"
     ]
    }
   ],
   "source": [
    "print(classification_report(y_test,predictions_LR))"
   ]
  },
  {
   "cell_type": "code",
   "execution_count": 43,
   "metadata": {},
   "outputs": [
    {
     "data": {
      "text/plain": [
       "0.3135"
      ]
     },
     "execution_count": 43,
     "metadata": {},
     "output_type": "execute_result"
    }
   ],
   "source": [
    "from sklearn.metrics import mean_absolute_error\n",
    "mean_absolute_error(y_test, predictions_LR)"
   ]
  },
  {
   "cell_type": "code",
   "execution_count": 45,
   "metadata": {},
   "outputs": [
    {
     "name": "stdout",
     "output_type": "stream",
     "text": [
      "Collecting scikit-plot\n",
      "  Downloading scikit_plot-0.3.7-py3-none-any.whl (33 kB)\n",
      "Requirement already satisfied: matplotlib>=1.4.0 in c:\\users\\adenon\\anaconda3\\lib\\site-packages (from scikit-plot) (3.3.2)\n",
      "Requirement already satisfied: joblib>=0.10 in c:\\users\\adenon\\anaconda3\\lib\\site-packages (from scikit-plot) (0.17.0)\n",
      "Requirement already satisfied: scikit-learn>=0.18 in c:\\users\\adenon\\anaconda3\\lib\\site-packages (from scikit-plot) (0.23.2)\n",
      "Requirement already satisfied: scipy>=0.9 in c:\\users\\adenon\\anaconda3\\lib\\site-packages (from scikit-plot) (1.5.2)\n",
      "Requirement already satisfied: kiwisolver>=1.0.1 in c:\\users\\adenon\\anaconda3\\lib\\site-packages (from matplotlib>=1.4.0->scikit-plot) (1.3.0)\n",
      "Requirement already satisfied: cycler>=0.10 in c:\\users\\adenon\\anaconda3\\lib\\site-packages (from matplotlib>=1.4.0->scikit-plot) (0.10.0)\n",
      "Requirement already satisfied: pillow>=6.2.0 in c:\\users\\adenon\\anaconda3\\lib\\site-packages (from matplotlib>=1.4.0->scikit-plot) (8.0.1)\n",
      "Requirement already satisfied: python-dateutil>=2.1 in c:\\users\\adenon\\anaconda3\\lib\\site-packages (from matplotlib>=1.4.0->scikit-plot) (2.8.1)\n",
      "Requirement already satisfied: numpy>=1.15 in c:\\users\\adenon\\anaconda3\\lib\\site-packages (from matplotlib>=1.4.0->scikit-plot) (1.19.2)\n",
      "Requirement already satisfied: certifi>=2020.06.20 in c:\\users\\adenon\\anaconda3\\lib\\site-packages (from matplotlib>=1.4.0->scikit-plot) (2020.12.5)\n",
      "Requirement already satisfied: pyparsing!=2.0.4,!=2.1.2,!=2.1.6,>=2.0.3 in c:\\users\\adenon\\anaconda3\\lib\\site-packages (from matplotlib>=1.4.0->scikit-plot) (2.4.7)\n",
      "Requirement already satisfied: threadpoolctl>=2.0.0 in c:\\users\\adenon\\anaconda3\\lib\\site-packages (from scikit-learn>=0.18->scikit-plot) (2.1.0)\n",
      "Requirement already satisfied: six in c:\\users\\adenon\\anaconda3\\lib\\site-packages (from cycler>=0.10->matplotlib>=1.4.0->scikit-plot) (1.15.0)\n",
      "Installing collected packages: scikit-plot\n",
      "Successfully installed scikit-plot-0.3.7\n"
     ]
    }
   ],
   "source": [
    "# !pip install scikit-plot"
   ]
  },
  {
   "cell_type": "code",
   "execution_count": 49,
   "metadata": {},
   "outputs": [
    {
     "data": {
      "text/plain": [
       "<AxesSubplot:title={'center':'ROC Curves'}, xlabel='False Positive Rate', ylabel='True Positive Rate'>"
      ]
     },
     "execution_count": 49,
     "metadata": {},
     "output_type": "execute_result"
    },
    {
     "data": {
      "image/png": "[encoded data removed]",
      "text/plain": [
       "<Figure size 432x288 with 1 Axes>"
      ]
     },
     "metadata": {
      "needs_background": "light"
     },
     "output_type": "display_data"
    }
   ],
   "source": [
    "# Lojistik Regresyon İçin Roc Eğrisi\n",
    "import scikitplot.metrics as splt\n",
    "\n",
    "predicted_proba = LR.predict_proba(Test_X_Tdif)\n",
    "splt.plot_roc(y_test, predicted_proba)"
   ]
  },
  {
   "cell_type": "code",
   "execution_count": null,
   "metadata": {},
   "outputs": [],
   "source": []
  }
 ],
 "metadata": {
  "colab": {
   "authorship_tag": "ABX9TyOB1t56g4RVdt1jgeZek4xU",
   "collapsed_sections": [],
   "name": "summary.ipynb",
   "provenance": []
  },
  "kernelspec": {
   "display_name": "Python 3",
   "language": "python",
   "name": "python3"
  },
  "language_info": {
   "codemirror_mode": {
    "name": "ipython",
    "version": 3
   },
   "file_extension": ".py",
   "mimetype": "text/x-python",
   "name": "python",
   "nbconvert_exporter": "python",
   "pygments_lexer": "ipython3",
   "version": "3.8.5"
  }
 },
 "nbformat": 4,
 "nbformat_minor": 1
}
