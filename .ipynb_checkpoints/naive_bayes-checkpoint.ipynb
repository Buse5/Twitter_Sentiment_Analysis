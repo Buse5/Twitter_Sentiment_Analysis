{
 "cells": [
  {
   "cell_type": "markdown",
   "metadata": {},
   "source": [
    "# Naive Bayes\n",
    "\n",
    "Burada şunları yapacağız:\n",
    "\n",
    "* Duygu analizi için bayes modeli eğitme\n",
    "* Modelimizi kullanarak test etme\n",
    "* Olumlu kelimelerin negatif kelimelere oranlarını hesaplama\n",
    "* Hata analizi yapma\n",
    "* Kendi tweet'imizle tahmin etme"
   ]
  },
  {
   "cell_type": "code",
   "execution_count": 5,
   "metadata": {},
   "outputs": [],
   "source": [
    "from utils_2 import process_tweet, lookup\n",
    "import pdb\n",
    "from nltk.corpus import stopwords, twitter_samples\n",
    "import numpy as np\n",
    "import pandas as pd\n",
    "import nltk\n",
    "import string\n",
    "from nltk.tokenize import TweetTokenizer"
   ]
  },
  {
   "cell_type": "code",
   "execution_count": 6,
   "metadata": {},
   "outputs": [
    {
     "name": "stderr",
     "output_type": "stream",
     "text": [
      "[nltk_data] Downloading package stopwords to\n",
      "[nltk_data]     C:\\Users\\Buseyalcin\\AppData\\Roaming\\nltk_data...\n",
      "[nltk_data]   Unzipping corpora\\stopwords.zip.\n",
      "[nltk_data] Downloading package twitter_samples to\n",
      "[nltk_data]     C:\\Users\\Buseyalcin\\AppData\\Roaming\\nltk_data...\n",
      "[nltk_data]   Unzipping corpora\\twitter_samples.zip.\n"
     ]
    },
    {
     "data": {
      "text/plain": [
       "True"
      ]
     },
     "execution_count": 6,
     "metadata": {},
     "output_type": "execute_result"
    }
   ],
   "source": [
    "nltk.download('stopwords')\n",
    "nltk.download('twitter_samples')"
   ]
  },
  {
   "cell_type": "code",
   "execution_count": 7,
   "metadata": {},
   "outputs": [],
   "source": [
    "# olumlu ve olumsuz tweet setlerini alıyoruz\n",
    "all_positive_tweets = twitter_samples.strings('positive_tweets.json')\n",
    "all_negative_tweets = twitter_samples.strings('negative_tweets.json')\n",
    "\n",
    "# Verileri, biri eğitim, diğeri test için olmak üzere iki parçaya ayırıyoruz. 4000 pozittif, 4000 negatif şeklinde alıyoruz.\n",
    "test_pos = all_positive_tweets[4000:]\n",
    "train_pos = all_positive_tweets[:4000]\n",
    "test_neg = all_negative_tweets[4000:]\n",
    "train_neg = all_negative_tweets[:4000]\n",
    "\n",
    "train_x = train_pos + train_neg\n",
    "test_x = test_pos + test_neg\n",
    "\n",
    "#1 ve 0 ları arka arakayya koyarak labelleri oluşturmuş oluyoruz.\n",
    "train_y = np.append(np.ones(len(train_pos)), np.zeros(len(train_neg)))\n",
    "test_y = np.append(np.ones(len(test_pos)), np.zeros(len(test_neg)))"
   ]
  },
  {
   "cell_type": "code",
   "execution_count": 8,
   "metadata": {},
   "outputs": [
    {
     "name": "stdout",
     "output_type": "stream",
     "text": [
      "['hello', 'great', 'day', ':)', 'good', 'morn']\n"
     ]
    }
   ],
   "source": [
    "custom_tweet = \"RT @Twitter @chapagain Hello There! Have a great day. :) #good #morning http://chapagain.com.np\"\n",
    "print(process_tweet(custom_tweet))"
   ]
  },
  {
   "cell_type": "markdown",
   "metadata": {},
   "source": [
    "## Bölüm 1.1 Yardımcı işlevlerinizi uygulama\n",
    "\n",
    "\n",
    "Örneğin: bir tweet listesi `[\"i am rather excited\", \"you are rather happy\"]` ve etiket 1 verildiğinde, işlev aşağıdaki anahtar / değer çiftlerini içeren bir sözlük döndürecektir:\n",
    "{\n",
    "    (\"rather\", 1): 2\n",
    "    (\"happi\", 1) : 1\n",
    "    (\"excit\", 1) : 1\n",
    "}\n",
    "Bir tweet listesini girdi olarak alan, hepsini temizleyen ve bir sözlük döndüren count_tweets () işlevi oluşturalım."
   ]
  },
  {
   "cell_type": "code",
   "execution_count": 9,
   "metadata": {},
   "outputs": [],
   "source": [
    "def count_tweets(result, tweets, ys):\n",
    "\n",
    "    for y, tweet in zip(ys, tweets):\n",
    "        for word in process_tweet(tweet): #procces_tweet de ki her bir token için pair'i tuple haline getirelim.\n",
    "           # kelime ve etiket dizisi olan anahtarı tanımlayalım\n",
    "            pair = (word,y)\n",
    "\n",
    "           # Anahtar sözlükte mevcutsa, sayımı artıralım\n",
    "            if pair in result:\n",
    "                result[pair] += 1\n",
    "\n",
    "           #anahtar yeniyse, sözlüğe ekleyin ve sayımı 1 olarak ayarlayalım\n",
    "            else:\n",
    "                result[pair] = 1\n",
    "    return result"
   ]
  },
  {
   "cell_type": "code",
   "execution_count": 10,
   "metadata": {
    "scrolled": true
   },
   "outputs": [
    {
     "data": {
      "text/plain": [
       "{('happi', 1): 1, ('trick', 0): 1, ('sad', 0): 1, ('tire', 0): 2}"
      ]
     },
     "execution_count": 10,
     "metadata": {},
     "output_type": "execute_result"
    }
   ],
   "source": [
    "#fonksiyonu test edelim\n",
    "result = {}\n",
    "tweets = ['i am happy', 'i am tricked', 'i am sad', 'i am tired', 'i am tired']\n",
    "ys = [1, 0, 0, 0, 0]\n",
    "count_tweets(result, tweets, ys)"
   ]
  },
  {
   "cell_type": "markdown",
   "metadata": {},
   "source": [
    "**Expected Output**: {('happi', 1): 1, ('trick', 0): 1, ('sad', 0): 1, ('tire', 0): 2}"
   ]
  },
  {
   "cell_type": "markdown",
   "metadata": {},
   "source": [
    "# Bölüm 2: Modelimizi Naive Bayes kullanarak eğitelim\n",
    "\n",
    "#### Peki Naive Bayes sınıflandırıcısını nasıl eğitiriz?\n",
    "Formülleri aşağıdaki gibi kullanacağız ve değerleri bir sözlükte saklayacağız:\n",
    "\n",
    "$$P(D_{pos}) = \\frac{D_{pos}}{D}\\tag{1}$$\n",
    "\n",
    "$$P(D_{neg}) = \\frac{D_{neg}}{D}\\tag{2}$$\n"
   ]
  },
  {
   "cell_type": "markdown",
   "metadata": {},
   "source": [
    "#### Prior ve Logprior\n",
    "\n",
    "Prior, 𝑃 (𝐷𝑝𝑜𝑠)/ 𝑃 (𝐷𝑛𝑒𝑔) olasılıklarının oranıdır. Prior' ın logaritmasını alarak da Logprior hesaplanır.\n",
    "\n",
    "logprior = 𝑙𝑜𝑔 (𝑃(𝐷𝑝𝑜𝑠) / 𝑃(𝐷𝑛𝑒𝑔)) = 𝑙𝑜𝑔(𝐷𝑝𝑜𝑠𝐷𝑛𝑒𝑔)"
   ]
  },
  {
   "cell_type": "markdown",
   "metadata": {},
   "source": [
    "Bu formülü kullanarak belirli bir kelimenin pozitif ve negatif olasılığını hesaplıyoruz:\n",
    "\n",
    "𝑃(𝑊𝑝𝑜𝑠) = 𝑓𝑟𝑒𝑞𝑝𝑜𝑠+1 / 𝑁𝑝𝑜𝑠+𝑉 \n",
    "\n",
    "𝑃(𝑊𝑛𝑒𝑔) = 𝑓𝑟𝑒𝑞𝑛𝑒𝑔+1 / 𝑁𝑛𝑒𝑔+𝑉 "
   ]
  },
  {
   "cell_type": "markdown",
   "metadata": {},
   "source": [
    "#### Log likelihood\n",
    "\n",
    "Aynı kelimenin mantık olasılığını hesaplamak için aşağıdaki denklemleri uygulayabiliriz:\n",
    "\n",
    "loglikelihood= log (𝑃(𝑊𝑝𝑜𝑠) / 𝑃(𝑊𝑛𝑒𝑔)) "
   ]
  },
  {
   "cell_type": "code",
   "execution_count": 12,
   "metadata": {},
   "outputs": [],
   "source": [
    "#frekans dictionary oluşturmak için count_tweets fonksiyonunu çağırıp boş dictionory gönderiyoruz.\n",
    "\n",
    "freqs = count_tweets({}, train_x, train_y)"
   ]
  },
  {
   "cell_type": "markdown",
   "metadata": {},
   "source": [
    "#### YAPILACAKLAR\n",
    "\n",
    "##### Hesaplama $V$\n",
    "\n",
    "#####  $freq_{pos}$ ve $freq_{neg}$ Hesaplama\n",
    "\n",
    "#####  $N_{pos}$, $N_{neg}$, $V_{pos}$, ve $V_{neg}$ Hesaplama\n",
    "\n",
    "#####  $D$, $D_{pos}$, $D_{neg}$ Hesaplama\n",
    "\n",
    "##### Logprior Hesaplama\n",
    "- logprior $log(D_{pos}) - log(D_{neg})$\n",
    "\n",
    "##### Log likelihood Hesaplama\n",
    "- 4 ve 5 denklemlerini kullanarak her $P(W_{pos})$ kelimesinin pozitif olasılığını, her $P(W_{neg})$ kelimesinin negatif olasılığını hesaplarız.\n",
    "\n",
    "$$ P(W_{pos}) = \\frac{freq_{pos} + 1}{N_{pos} + V}\\tag{4} $$\n",
    "$$ P(W_{neg}) = \\frac{freq_{neg} + 1}{N_{neg} + V}\\tag{5} $$\n",
    "\n",
    "- Daha sonra mantık olasılığını hesaplayabiliriz: $log \\left( \\frac{P(W_{pos})}{P(W_{neg})} \\right)$."
   ]
  },
  {
   "cell_type": "code",
   "execution_count": 15,
   "metadata": {},
   "outputs": [],
   "source": [
    "def train_naive_bayes(freqs, train_x, train_y):\n",
    "    loglikelihood = {}\n",
    "    logprior = 0\n",
    "    vocab = set([pair[0] for pair in freqs.keys()])\n",
    "    V = len(vocab)\n",
    "\n",
    "    #  N_pos, N_neg, V_pos, V_neg hesaplaması\n",
    "    \n",
    "    N_pos = N_neg = V_pos = V_neg = 0\n",
    "    for pair in freqs.keys():\n",
    "        if pair[1] > 0:           \n",
    "            V_pos += 1\n",
    "            N_pos += freqs[pair]\n",
    "        else:\n",
    "            V_neg += 1\n",
    "            N_neg += freqs[pair]\n",
    "\n",
    "            #BİZ ASLINDA 4000 POZİTİF  4000 NEGATİF VERİMİZ OLDUĞUNU ZATEN BİLİYORUZ AMA BAŞKA BİR VERİ SETİNDE \n",
    "            #NASIL KULLANILACAĞINI GÖRELİM \n",
    "            \n",
    "    # D, döküman sayısını hesaplama\n",
    "    D = len(train_y)\n",
    "\n",
    "    # D_pos, pozitif  döküman sayısını hesaplama\n",
    "    D_pos = (len(list(filter(lambda x: x > 0, train_y))))\n",
    "\n",
    "    # D_neg, negatif döküman sayısını hesaplama\n",
    "    D_neg = (len(list(filter(lambda x: x <= 0, train_y))))\n",
    "\n",
    "    # logprior u hesaplama\n",
    "    logprior = np.log(D_pos) - np.log(D_neg)\n",
    "\n",
    "    # Kelime dağarcığındaki her kelime için..\n",
    "    for word in vocab:\n",
    "        # kelimenin pozitif ve negatif sıklığını getirelim\n",
    "        freq_pos = lookup(freqs,word,1)\n",
    "        freq_neg = lookup(freqs,word,0)\n",
    "\n",
    "        # her kelimenin olumlu ve olumsuz olma olasılığını hesaplayalım\n",
    "        p_w_pos = (freq_pos + 1) / (N_pos + V)\n",
    "        p_w_neg = (freq_neg + 1) / (N_neg + V)\n",
    "\n",
    "        # kelimenin log likelihood değerini hesapla\n",
    "        loglikelihood[word] = np.log(p_w_pos/p_w_neg)\n",
    "\n",
    "    return logprior, loglikelihood\n"
   ]
  },
  {
   "cell_type": "code",
   "execution_count": 14,
   "metadata": {},
   "outputs": [
    {
     "name": "stdout",
     "output_type": "stream",
     "text": [
      "0.0\n",
      "9085\n"
     ]
    }
   ],
   "source": [
    "#Eşsiz hücrelerin tanımlanması\n",
    "logprior, loglikelihood = train_naive_bayes(freqs, train_x, train_y)\n",
    "print(logprior)\n",
    "print(len(loglikelihood))"
   ]
  },
  {
   "cell_type": "markdown",
   "metadata": {},
   "source": [
    "# Bölüm 3 - Naive bayes ' imizi test edelim\n",
    "**Yapılacakalar**:\n",
    "Tweetlerde tahminlerde bulunmak için `naive_bayes_predict` fonksiyonunu uygulayalım.\n",
    "* Fonksiyon şu değerleri alır:  `tweet`, `logprior`, `loglikelihood`.\n",
    "* Tweet'in pozitif veya negatif sınıfa ait olma olasılığını döndürür.\n",
    "* Her tweet için, tweet'teki her kelimenin mantık olasılıkları toplanır.\n",
    "* Ayrıca bu tweet'in öngörülen duygusunu elde etmek için logprior'u bu toplama eklenir.\n",
    "\n",
    "$$ p = logprior + \\sum_i^N (loglikelihood_i)$$"
   ]
  },
  {
   "cell_type": "code",
   "execution_count": 17,
   "metadata": {},
   "outputs": [],
   "source": [
    "def naive_bayes_predict(tweet, logprior, loglikelihood):\n",
    "    word_l = process_tweet(tweet)\n",
    "    p = 0\n",
    "    p += logprior\n",
    "    for word in word_l:\n",
    "        if word in loglikelihood:\n",
    "            p += loglikelihood[word]\n",
    "    return p"
   ]
  },
  {
   "cell_type": "code",
   "execution_count": 18,
   "metadata": {},
   "outputs": [
    {
     "name": "stdout",
     "output_type": "stream",
     "text": [
      "Beklenen çıktı 1.5737794405738943\n"
     ]
    }
   ],
   "source": [
    "# Kendi tweet'imizde deneyelim.\n",
    "my_tweet = 'She smiled.'\n",
    "p = naive_bayes_predict(my_tweet, logprior, loglikelihood)\n",
    "print('Beklenen çıktı', p)"
   ]
  },
  {
   "cell_type": "code",
   "execution_count": 19,
   "metadata": {},
   "outputs": [
    {
     "name": "stdout",
     "output_type": "stream",
     "text": [
      "Beklenen çıktı -1.8406631678382814\n"
     ]
    }
   ],
   "source": [
    "my_tweet = 'I am tired.'\n",
    "p = naive_bayes_predict(my_tweet, logprior, loglikelihood)\n",
    "print('Beklenen çıktı', p)"
   ]
  },
  {
   "cell_type": "markdown",
   "metadata": {},
   "source": [
    "#### test_naive_bayes() Fonksiyonu\n",
    "**Talimatlar**:\n",
    "* Tahminlerin doğruluğunu kontrol etmek için `test_naive_bayes` fonsiyonu yazalım.\n",
    "* Fonksiyon, `test_x`,` test_y`, log_prior ve log olasılığınızı alır.\n",
    "* Modelinizin doğruluğunu döndürür.\n",
    "* Öncelikle, text_x'teki her tweet için tahminler yapmak için `naive_bayes_predict` işlevini kullanalım."
   ]
  },
  {
   "cell_type": "code",
   "execution_count": 20,
   "metadata": {},
   "outputs": [],
   "source": [
    "def test_naive_bayes(test_x, test_y, logprior, loglikelihood):\n",
    "    accuracy = 0 \n",
    "    y_hats = []\n",
    "    for tweet in test_x:\n",
    "        \n",
    "        if naive_bayes_predict(tweet, logprior, loglikelihood) > 0:\n",
    "            y_hat_i = 1\n",
    "        else:\n",
    "            y_hat_i = 0\n",
    "        y_hats.append(y_hat_i)\n",
    "\n",
    "    # hata, y_hats ve test_y arasındaki farkların mutlak değerlerinin ortalamasıdır\n",
    "    error = np.mean(np.absolute(y_hats-test_y))\n",
    "\n",
    "    # Doğruluk 1 eksi hatadır\n",
    "    accuracy = 1-error\n",
    "\n",
    "    return accuracy\n"
   ]
  },
  {
   "cell_type": "code",
   "execution_count": 21,
   "metadata": {
    "scrolled": true
   },
   "outputs": [
    {
     "name": "stdout",
     "output_type": "stream",
     "text": [
      "Naive Bayes doğruluğu = 0.9940\n"
     ]
    }
   ],
   "source": [
    "print(\"Naive Bayes doğruluğu = %0.4f\" %\n",
    "      (test_naive_bayes(test_x, test_y, logprior, loglikelihood)))"
   ]
  },
  {
   "cell_type": "code",
   "execution_count": 23,
   "metadata": {},
   "outputs": [
    {
     "name": "stdout",
     "output_type": "stream",
     "text": [
      "I am happy -> 2.15\n",
      "I am bad -> -1.29\n",
      "this movie should have been great. -> 2.14\n",
      "great -> 2.14\n",
      "great great -> 4.28\n",
      "great great great -> 6.41\n",
      "great great great great -> 8.55\n"
     ]
    }
   ],
   "source": [
    "# Fonksiyonumuzu test etmek için bu hücreyi çalıştıralım\n",
    "for tweet in ['I am happy', 'I am bad', 'this movie should have been great.', 'great', 'great great', 'great great great', 'great great great great']:\n",
    "    p = naive_bayes_predict(tweet, logprior, loglikelihood)\n",
    "    print(f'{tweet} -> {p:.2f}')"
   ]
  },
  {
   "cell_type": "code",
   "execution_count": 27,
   "metadata": {},
   "outputs": [
    {
     "data": {
      "text/plain": [
       "-8.802119484044237"
      ]
     },
     "execution_count": 27,
     "metadata": {},
     "output_type": "execute_result"
    }
   ],
   "source": [
    "# Aşağıdaki yine kendi tweet'imizi yazıp kontrol edebiliriz\n",
    "my_tweet = 'you are bad :('\n",
    "naive_bayes_predict(my_tweet, logprior, loglikelihood)"
   ]
  },
  {
   "cell_type": "markdown",
   "metadata": {},
   "source": [
    "# Bölüm 4: Kelimeleri pozitif ve negatif sayılara oranına göre filtreleme\n",
    "\n",
    "#### `get_ratio()` Fonksiyonumuzu yazalım\n",
    "- Pozitifin negatif sayılara oranının hesaplanması; (bize ratio değerini verir.)\n",
    "\n",
    "$$ ratio = \\frac{\\text{pos_words} + 1}{\\text{neg_words} + 1} $$\n",
    "\n",
    "Pos_words ve neg_words, kendi sınıflarındaki kelimelerin sıklığına karşılık gelir. \n",
    "<table>\n",
    "    <tr>\n",
    "        <td>\n",
    "            <b>Words</b>\n",
    "        </td>\n",
    "        <td>\n",
    "        Positive word count\n",
    "        </td>\n",
    "         <td>\n",
    "        Negative Word Count\n",
    "        </td>\n",
    "  </tr>\n",
    "    <tr>\n",
    "        <td>\n",
    "        glad\n",
    "        </td>\n",
    "         <td>\n",
    "        41\n",
    "        </td>\n",
    "    <td>\n",
    "        2\n",
    "        </td>\n",
    "  </tr>\n",
    "    <tr>\n",
    "        <td>\n",
    "        arriv\n",
    "        </td>\n",
    "         <td>\n",
    "        57\n",
    "        </td>\n",
    "    <td>\n",
    "        4\n",
    "        </td>\n",
    "  </tr>\n",
    "    <tr>\n",
    "        <td>\n",
    "        :(\n",
    "        </td>\n",
    "         <td>\n",
    "        1\n",
    "        </td>\n",
    "    <td>\n",
    "        3663\n",
    "        </td>\n",
    "  </tr>\n",
    "    <tr>\n",
    "        <td>\n",
    "        :-(\n",
    "        </td>\n",
    "         <td>\n",
    "        0\n",
    "        </td>\n",
    "    <td>\n",
    "        378\n",
    "        </td>\n",
    "  </tr>\n",
    "</table>"
   ]
  },
  {
   "cell_type": "code",
   "execution_count": 28,
   "metadata": {},
   "outputs": [],
   "source": [
    "def get_ratio(freqs, word):\n",
    "    '''\n",
    "    Input:\n",
    "        freqs: kelimeleri içeren sözlük\n",
    "\n",
    "    Output:\n",
    "        'positive', 'negative', and 'ratio'bunları içeren bir dictionary\n",
    "        Örneğin: {'positive': 10, 'negative': 20, 'ratio': 0.5}\n",
    "    '''\n",
    "    pos_neg_ratio = {'positive': 0, 'negative': 0, 'ratio': 0.0}\n",
    "\n",
    "    pos_neg_ratio['positive'] = lookup(freqs,word,1)\n",
    "\n",
    "    pos_neg_ratio['negative'] = lookup(freqs,word,0)\n",
    "\n",
    "    pos_neg_ratio['ratio'] = (pos_neg_ratio['positive'] + 1)/(pos_neg_ratio['negative'] + 1)\n",
    "\n",
    "    return pos_neg_ratio\n"
   ]
  },
  {
   "cell_type": "code",
   "execution_count": 29,
   "metadata": {},
   "outputs": [
    {
     "data": {
      "text/plain": [
       "{'positive': 161, 'negative': 18, 'ratio': 8.526315789473685}"
      ]
     },
     "execution_count": 29,
     "metadata": {},
     "output_type": "execute_result"
    }
   ],
   "source": [
    "get_ratio(freqs, 'happi')"
   ]
  },
  {
   "cell_type": "markdown",
   "metadata": {},
   "source": [
    "####  `get_words_by_threshold(freqs,label,threshold)` Fonsiyonunu yazalım\n",
    "\n",
    "* Etiketi 1 olarak ayarlarsak, pozitif / negatif threshold en az bu threshold kadar veya daha yüksek olan tüm kelimeleri arayacağız.\n",
    "* Etiketi 0 olarak ayarlarsak, pozitif / negatif threshold verilen threshold kadar düşük veya daha düşük olan tüm kelimeleri arayacağız.\n",
    "* Pozitif sayım, negatif sayı ve pozitif ile negatif sayıların oranını içeren bir sözlük elde etmek için `get_ratio()` işlevini kullanırız\n",
    "* Listeye bir sözlük ekleyin, burada anahtar kelime ve sözlük, `get_ratio()` işlevi tarafından döndürülen `pos_neg_ratio` sözlüğüdür.\n",
    "Örnek bir anahtar / değer çifti şu yapıya sahip olacaktır:\n",
    "```\n",
    "{'happi':\n",
    "    {'positive': 10, 'negative': 20, 'ratio': 0.5}\n",
    "}\n",
    "```"
   ]
  },
  {
   "cell_type": "code",
   "execution_count": 30,
   "metadata": {},
   "outputs": [],
   "source": [
    "def get_words_by_threshold(freqs, label, threshold):            \n",
    "    word_list = {}\n",
    "    for key in freqs.keys():\n",
    "        word, _ = key\n",
    "\n",
    "       # bir kelime için pozitif / negatif oranını alıyoruz.\n",
    "        pos_neg_ratio = get_ratio(freqs, word)\n",
    "\n",
    "        if label == 1 and pos_neg_ratio['ratio'] >= threshold :\n",
    "            word_list[word] = pos_neg_ratio\n",
    "\n",
    "        elif label == 0 and pos_neg_ratio['ratio'] <= threshold:\n",
    "            word_list[word] = pos_neg_ratio\n",
    "    return word_list"
   ]
  },
  {
   "cell_type": "code",
   "execution_count": 33,
   "metadata": {},
   "outputs": [
    {
     "data": {
      "text/plain": [
       "{':(': {'positive': 1, 'negative': 3663, 'ratio': 0.0005458515283842794},\n",
       " ':-(': {'positive': 0, 'negative': 378, 'ratio': 0.002638522427440633},\n",
       " 'zayniscomingbackonjuli': {'positive': 0, 'negative': 19, 'ratio': 0.05},\n",
       " '26': {'positive': 0, 'negative': 20, 'ratio': 0.047619047619047616},\n",
       " '>:(': {'positive': 0, 'negative': 43, 'ratio': 0.022727272727272728},\n",
       " 'lost': {'positive': 0, 'negative': 19, 'ratio': 0.05},\n",
       " '♛': {'positive': 0, 'negative': 210, 'ratio': 0.004739336492890996},\n",
       " '》': {'positive': 0, 'negative': 210, 'ratio': 0.004739336492890996},\n",
       " 'beli̇ev': {'positive': 0, 'negative': 35, 'ratio': 0.027777777777777776},\n",
       " 'wi̇ll': {'positive': 0, 'negative': 35, 'ratio': 0.027777777777777776},\n",
       " 'justi̇n': {'positive': 0, 'negative': 35, 'ratio': 0.027777777777777776},\n",
       " 'ｓｅｅ': {'positive': 0, 'negative': 35, 'ratio': 0.027777777777777776},\n",
       " 'ｍｅ': {'positive': 0, 'negative': 35, 'ratio': 0.027777777777777776}}"
      ]
     },
     "execution_count": 33,
     "metadata": {},
     "output_type": "execute_result"
    }
   ],
   "source": [
    "# Fonksiyonunuzu test edin: threshold değerinin altında negatif kelimeleri bulun\n",
    "#Otalama değerimizde en fazla 0.05 olanları görmek için thresholdu 0.05 yaptık.\n",
    "#ratio= bir kelimenin pozitif geçme sayısının negatif geçme sayısına bölümüdür.\n",
    "get_words_by_threshold(freqs, label=0, threshold=0.05)"
   ]
  },
  {
   "cell_type": "code",
   "execution_count": 44,
   "metadata": {},
   "outputs": [
    {
     "data": {
      "text/plain": [
       "{'followfriday': {'positive': 23, 'negative': 0, 'ratio': 24.0},\n",
       " 'commun': {'positive': 27, 'negative': 1, 'ratio': 14.0},\n",
       " ':)': {'positive': 2847, 'negative': 2, 'ratio': 949.3333333333334},\n",
       " 'flipkartfashionfriday': {'positive': 16, 'negative': 0, 'ratio': 17.0},\n",
       " ':D': {'positive': 498, 'negative': 0, 'ratio': 499.0},\n",
       " ':p': {'positive': 103, 'negative': 0, 'ratio': 104.0},\n",
       " 'influenc': {'positive': 16, 'negative': 0, 'ratio': 17.0},\n",
       " ':-)': {'positive': 543, 'negative': 0, 'ratio': 544.0},\n",
       " \"here'\": {'positive': 20, 'negative': 0, 'ratio': 21.0},\n",
       " 'youth': {'positive': 14, 'negative': 0, 'ratio': 15.0},\n",
       " 'bam': {'positive': 44, 'negative': 0, 'ratio': 45.0},\n",
       " 'warsaw': {'positive': 44, 'negative': 0, 'ratio': 45.0},\n",
       " 'shout': {'positive': 11, 'negative': 0, 'ratio': 12.0},\n",
       " ';)': {'positive': 22, 'negative': 0, 'ratio': 23.0},\n",
       " 'stat': {'positive': 51, 'negative': 0, 'ratio': 52.0},\n",
       " 'arriv': {'positive': 57, 'negative': 4, 'ratio': 11.6},\n",
       " 'via': {'positive': 60, 'negative': 1, 'ratio': 30.5},\n",
       " 'glad': {'positive': 41, 'negative': 2, 'ratio': 14.0},\n",
       " 'blog': {'positive': 27, 'negative': 0, 'ratio': 28.0},\n",
       " 'fav': {'positive': 11, 'negative': 0, 'ratio': 12.0},\n",
       " 'fback': {'positive': 26, 'negative': 0, 'ratio': 27.0},\n",
       " 'pleasur': {'positive': 10, 'negative': 0, 'ratio': 11.0}}"
      ]
     },
     "execution_count": 44,
     "metadata": {},
     "output_type": "execute_result"
    }
   ],
   "source": [
    "# Fonksiyonunuzu test edin: threshold değerinin altında pozitif kelimeleri bulun\n",
    "# Burada threshold'u arttırınca kelime sayımız azalır, düşürüncec de artar.\n",
    "get_words_by_threshold(freqs, label=1, threshold=10)"
   ]
  },
  {
   "cell_type": "markdown",
   "metadata": {},
   "source": [
    "Pozitif ve negatif oranlar arasındaki farka dikkat edin. Bu tarz emojiler :( ve 'ben' gibi kelimeler olumsuz bir çağrışıma sahip olma eğilimindedir. 'glad', 'community' ve 'arrives' gibi diğer kelimeler genellikle olumlu tweet'lerde bulunur."
   ]
  },
  {
   "cell_type": "markdown",
   "metadata": {},
   "source": [
    "# Bölüm 5: Hata Analizi\n",
    "\n",
    "Bu bölümde, modelinizin yanlış sınıflandırdığı bazı tweetler göreceğiz."
   ]
  },
  {
   "cell_type": "code",
   "execution_count": 35,
   "metadata": {
    "scrolled": true
   },
   "outputs": [
    {
     "name": "stdout",
     "output_type": "stream",
     "text": [
      "Doğru Tahmin Tweet\n",
      "1\t0.00\tb''\n",
      "1\t0.00\tb'truli later move know queen bee upward bound movingonup'\n",
      "1\t0.00\tb'new report talk burn calori cold work harder warm feel better weather :p'\n",
      "1\t0.00\tb'harri niall 94 harri born ik stupid wanna chang :D'\n",
      "1\t0.00\tb''\n",
      "1\t0.00\tb''\n",
      "1\t0.00\tb'park get sunlight'\n",
      "1\t0.00\tb'uff itna miss karhi thi ap :p'\n",
      "0\t1.00\tb'hello info possibl interest jonatha close join beti :( great'\n",
      "0\t1.00\tb'u prob fun david'\n",
      "0\t1.00\tb'pat jay'\n",
      "0\t1.00\tb'whatev stil l young >:-('\n"
     ]
    }
   ],
   "source": [
    "print('Doğru Tahmin Tweet')\n",
    "for x, y in zip(test_x, test_y):\n",
    "    y_hat = naive_bayes_predict(x, logprior, loglikelihood)\n",
    "    if y != (np.sign(y_hat) > 0):\n",
    "        print('%d\\t%0.2f\\t%s' % (y, np.sign(y_hat) > 0, ' '.join(\n",
    "            process_tweet(x)).encode('ascii', 'ignore')))\n",
    "#Burada çok az sayıda hatalı etiketleme olduğunu görüyoruz.\n",
    "#Boş olan tweetlerin hatalı olarak gelme sebebi de loglikelihood>0 değerini verdiğimiz için oldu.. (IN[16] da)"
   ]
  },
  {
   "cell_type": "code",
   "execution_count": 36,
   "metadata": {},
   "outputs": [
    {
     "name": "stdout",
     "output_type": "stream",
     "text": [
      "9.57402369584527\n"
     ]
    }
   ],
   "source": [
    "# Bu bölümde kendi tweetimizin ne olduğunu tahmin edelim..\n",
    "my_tweet = 'I am happy because I am learning :)'\n",
    "\n",
    "p = naive_bayes_predict(my_tweet, logprior, loglikelihood)\n",
    "print(p)"
   ]
  },
  {
   "cell_type": "code",
   "execution_count": 37,
   "metadata": {},
   "outputs": [
    {
     "name": "stdout",
     "output_type": "stream",
     "text": [
      "-10.326197547527181\n"
     ]
    }
   ],
   "source": [
    "my_tweet = 'I am sad :('\n",
    "\n",
    "p = naive_bayes_predict(my_tweet, logprior, loglikelihood)\n",
    "print(p)"
   ]
  },
  {
   "cell_type": "code",
   "execution_count": null,
   "metadata": {},
   "outputs": [],
   "source": []
  }
 ],
 "metadata": {
  "anaconda-cloud": {},
  "coursera": {
   "schema_names": [
    "NLPC1-2"
   ]
  },
  "kernelspec": {
   "display_name": "Python 3",
   "language": "python",
   "name": "python3"
  },
  "language_info": {
   "codemirror_mode": {
    "name": "ipython",
    "version": 3
   },
   "file_extension": ".py",
   "mimetype": "text/x-python",
   "name": "python",
   "nbconvert_exporter": "python",
   "pygments_lexer": "ipython3",
   "version": "3.8.5"
  }
 },
 "nbformat": 4,
 "nbformat_minor": 1
}
